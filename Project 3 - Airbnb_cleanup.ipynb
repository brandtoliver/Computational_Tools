{
 "cells": [
  {
   "cell_type": "markdown",
   "metadata": {},
   "source": [
    "# Project 3: Airbnb\n",
    "**This is the third of three mandatory projects to be handed in as part of the assessment for the course 02807 Computational Tools for Data Science at Technical University of Denmark, autumn 2019.**\n",
    "\n",
    "#### Practical info\n",
    "- **The project is to be done in groups of at most 3 students**\n",
    "- **Each group has to hand in _one_ Jupyter notebook (this notebook) with their solution**\n",
    "- **The hand-in of the notebook is due 2019-12-05, 23:59 on DTU Inside**\n",
    "\n",
    "#### Your solution\n",
    "- **Your solution should be in Python/PySpark**\n",
    "- **For each question you may use as many cells for your solution as you like**\n",
    "- **You should not remove the problem statements**\n",
    "- **Your notebook should be runnable, i.e., clicking [>>] in Jupyter should generate the result that you want to be assessed**\n",
    "- **You are not expected to use machine learning to solve any of the exercises**"
   ]
  },
  {
   "cell_type": "markdown",
   "metadata": {},
   "source": [
    "# Introduction\n",
    "[Airbnb](http://airbnb.com) is an online marketplace for arranging or offering lodgings. In this project you will use Spark to analyze data obtained from the Airbnb website. The purpose of the analysis is to extract information about trends and patterns from the data.\n",
    "\n",
    "The project has two parts.\n",
    "\n",
    "### Part 1: Loading, describing and preparing the data\n",
    "There's quite a lot of data. Make sure that you can load and correctly parse the data, and that you understand what the dataset contains. You should also prepare the data for the analysis in part two. This means cleaning it and staging it so that subsequent queries are fast.\n",
    "\n",
    "### Par 2: Analysis\n",
    "In this part your goal is to learn about trends and usage patterns from the data. You should give solutions to the tasks defined in this notebook, and you should use Spark to do the data processing. You may use other libraries like for instance Pandas and matplotlib for visualisation.\n",
    "\n",
    "## Guidelines\n",
    "- Processing data should be done using Spark. Once data has been reduced to aggregate form, you may use collect to extract it into Python for visualisation.\n",
    "- Your solutions will be evaluated by correctness, code quality and interpretability of the output. This means that you have to write clean and efficient Spark code that will generate sensible execution plans, and that the tables and visualisations that you produce are meaningful and easy to read.\n",
    "- You may add more cells for your solutions, but you should not modify the notebook otherwise."
   ]
  },
  {
   "cell_type": "markdown",
   "metadata": {},
   "source": [
    "### Create Spark session and define imports"
   ]
  },
  {
   "cell_type": "code",
   "execution_count": 46,
   "metadata": {},
   "outputs": [],
   "source": [
    "from pyspark.sql import *\n",
    "from pyspark.sql import functions as f\n",
    "from pyspark.sql.types import *\n",
    "\n",
    "import numpy as np\n",
    "from scipy import stats\n",
    "import pandas as pd\n",
    "\n",
    "import matplotlib.pyplot as plt\n",
    "import seaborn as sns\n",
    "plt.style.use(['seaborn-whitegrid'])\n",
    "\n",
    "spark = SparkSession.builder.appName(\"SparkIntro\").getOrCreate()"
   ]
  },
  {
   "cell_type": "markdown",
   "metadata": {},
   "source": [
    "# Part 1: Loading, describing and preparing the data\n",
    "The data comes in two files. Start by downloading the files and putting them in your `data/` folder.\n",
    "\n",
    "- [Listings](https://files.dtu.dk/u/siPzAasj8w2gI_ME/listings.csv?l) (5 GB)\n",
    "- [Reviews](https://files.dtu.dk/u/k3oaPYp6GjKBeho4/reviews.csv?l) (9.5 GB)"
   ]
  },
  {
   "cell_type": "markdown",
   "metadata": {},
   "source": [
    "### Load the data\n",
    "The data has multiline rows (rows that span multiple lines in the file). To correctly parse these you should use the `multiline` option and set the `escape` character to be `\"`."
   ]
  },
  {
   "cell_type": "code",
   "execution_count": 2,
   "metadata": {},
   "outputs": [],
   "source": [
    "df = spark.read.option('header', True).option('inferSchema', True).option('multiline', True).option('escape','\"').csv('listings.csv')"
   ]
  },
  {
   "cell_type": "code",
   "execution_count": 3,
   "metadata": {},
   "outputs": [],
   "source": [
    "df_review = spark.read.option('header', True).option('inferSchema', True).option('multiline', True).option('escape','\"').csv('reviews.csv')"
   ]
  },
  {
   "cell_type": "markdown",
   "metadata": {},
   "source": [
    "### Describe the data\n",
    "List the features (schema) and sizes of the datasets."
   ]
  },
  {
   "cell_type": "code",
   "execution_count": 4,
   "metadata": {},
   "outputs": [
    {
     "name": "stdout",
     "output_type": "stream",
     "text": [
      "root\n",
      " |-- id: string (nullable = true)\n",
      " |-- listing_url: string (nullable = true)\n",
      " |-- scrape_id: string (nullable = true)\n",
      " |-- last_scraped: string (nullable = true)\n",
      " |-- name: string (nullable = true)\n",
      " |-- summary: string (nullable = true)\n",
      " |-- space: string (nullable = true)\n",
      " |-- description: string (nullable = true)\n",
      " |-- experiences_offered: string (nullable = true)\n",
      " |-- neighborhood_overview: string (nullable = true)\n",
      " |-- notes: string (nullable = true)\n",
      " |-- transit: string (nullable = true)\n",
      " |-- access: string (nullable = true)\n",
      " |-- interaction: string (nullable = true)\n",
      " |-- house_rules: string (nullable = true)\n",
      " |-- thumbnail_url: string (nullable = true)\n",
      " |-- medium_url: string (nullable = true)\n",
      " |-- picture_url: string (nullable = true)\n",
      " |-- xl_picture_url: string (nullable = true)\n",
      " |-- host_id: string (nullable = true)\n",
      " |-- host_url: string (nullable = true)\n",
      " |-- host_name: string (nullable = true)\n",
      " |-- host_since: string (nullable = true)\n",
      " |-- host_location: string (nullable = true)\n",
      " |-- host_about: string (nullable = true)\n",
      " |-- host_response_time: string (nullable = true)\n",
      " |-- host_response_rate: string (nullable = true)\n",
      " |-- host_acceptance_rate: string (nullable = true)\n",
      " |-- host_is_superhost: string (nullable = true)\n",
      " |-- host_thumbnail_url: string (nullable = true)\n",
      " |-- host_picture_url: string (nullable = true)\n",
      " |-- host_neighbourhood: string (nullable = true)\n",
      " |-- host_listings_count: string (nullable = true)\n",
      " |-- host_total_listings_count: string (nullable = true)\n",
      " |-- host_verifications: string (nullable = true)\n",
      " |-- host_has_profile_pic: string (nullable = true)\n",
      " |-- host_identity_verified: string (nullable = true)\n",
      " |-- street: string (nullable = true)\n",
      " |-- neighbourhood: string (nullable = true)\n",
      " |-- neighbourhood_cleansed: string (nullable = true)\n",
      " |-- neighbourhood_group_cleansed: string (nullable = true)\n",
      " |-- city: string (nullable = true)\n",
      " |-- state: string (nullable = true)\n",
      " |-- zipcode: string (nullable = true)\n",
      " |-- market: string (nullable = true)\n",
      " |-- smart_location: string (nullable = true)\n",
      " |-- country_code: string (nullable = true)\n",
      " |-- country: string (nullable = true)\n",
      " |-- latitude: string (nullable = true)\n",
      " |-- longitude: string (nullable = true)\n",
      " |-- is_location_exact: string (nullable = true)\n",
      " |-- property_type: string (nullable = true)\n",
      " |-- room_type: string (nullable = true)\n",
      " |-- accommodates: string (nullable = true)\n",
      " |-- bathrooms: string (nullable = true)\n",
      " |-- bedrooms: string (nullable = true)\n",
      " |-- beds: string (nullable = true)\n",
      " |-- bed_type: string (nullable = true)\n",
      " |-- amenities: string (nullable = true)\n",
      " |-- square_feet: string (nullable = true)\n",
      " |-- price: string (nullable = true)\n",
      " |-- weekly_price: string (nullable = true)\n",
      " |-- monthly_price: string (nullable = true)\n",
      " |-- security_deposit: string (nullable = true)\n",
      " |-- cleaning_fee: string (nullable = true)\n",
      " |-- guests_included: string (nullable = true)\n",
      " |-- extra_people: string (nullable = true)\n",
      " |-- minimum_nights: string (nullable = true)\n",
      " |-- maximum_nights: string (nullable = true)\n",
      " |-- minimum_minimum_nights: string (nullable = true)\n",
      " |-- maximum_minimum_nights: string (nullable = true)\n",
      " |-- minimum_maximum_nights: string (nullable = true)\n",
      " |-- maximum_maximum_nights: string (nullable = true)\n",
      " |-- minimum_nights_avg_ntm: string (nullable = true)\n",
      " |-- maximum_nights_avg_ntm: string (nullable = true)\n",
      " |-- calendar_updated: string (nullable = true)\n",
      " |-- has_availability: string (nullable = true)\n",
      " |-- availability_30: string (nullable = true)\n",
      " |-- availability_60: string (nullable = true)\n",
      " |-- availability_90: string (nullable = true)\n",
      " |-- availability_365: string (nullable = true)\n",
      " |-- calendar_last_scraped: string (nullable = true)\n",
      " |-- number_of_reviews: string (nullable = true)\n",
      " |-- number_of_reviews_ltm: string (nullable = true)\n",
      " |-- first_review: string (nullable = true)\n",
      " |-- last_review: string (nullable = true)\n",
      " |-- review_scores_rating: string (nullable = true)\n",
      " |-- review_scores_accuracy: string (nullable = true)\n",
      " |-- review_scores_cleanliness: string (nullable = true)\n",
      " |-- review_scores_checkin: string (nullable = true)\n",
      " |-- review_scores_communication: string (nullable = true)\n",
      " |-- review_scores_location: string (nullable = true)\n",
      " |-- review_scores_value: string (nullable = true)\n",
      " |-- requires_license: string (nullable = true)\n",
      " |-- license: string (nullable = true)\n",
      " |-- jurisdiction_names: string (nullable = true)\n",
      " |-- instant_bookable: string (nullable = true)\n",
      " |-- is_business_travel_ready: string (nullable = true)\n",
      " |-- cancellation_policy: string (nullable = true)\n",
      " |-- require_guest_profile_picture: string (nullable = true)\n",
      " |-- require_guest_phone_verification: string (nullable = true)\n",
      " |-- calculated_host_listings_count: string (nullable = true)\n",
      " |-- calculated_host_listings_count_entire_homes: string (nullable = true)\n",
      " |-- calculated_host_listings_count_private_rooms: string (nullable = true)\n",
      " |-- calculated_host_listings_count_shared_rooms: string (nullable = true)\n",
      " |-- reviews_per_month: string (nullable = true)\n",
      "\n"
     ]
    }
   ],
   "source": [
    "df.printSchema()"
   ]
  },
  {
   "cell_type": "markdown",
   "metadata": {},
   "source": [
    "### Prepare the data for analysis\n",
    "You should prepare two dataframes to be used in the analysis part of the project. You should not be concerned with cleaning the data. There's a lot of it, so it will be sufficient to drop rows that have bad values. You may want to go back and refine this step at a later point when doing the analysis.\n",
    "\n",
    "You may also want to consider if you can stage your data so that subsequent processing is more efficient (this is not strictly necessary for Spark to run, but you may be able to decrease the time you sit around waiting for Spark to finish things)"
   ]
  },
  {
   "cell_type": "code",
   "execution_count": 5,
   "metadata": {},
   "outputs": [],
   "source": [
    "# drop rows with NA values in columns city, neighbourhood, property_type, price\n",
    "df = df.select('id','country','city', 'neighbourhood', 'property_type', 'price','review_scores_rating')\n",
    "df = df.dropna(how='any',subset=['id','country','city', 'neighbourhood', 'property_type', 'price','review_scores_rating'])"
   ]
  },
  {
   "cell_type": "code",
   "execution_count": 6,
   "metadata": {},
   "outputs": [],
   "source": [
    "df.write.csv('data/clean_data',header=True)"
   ]
  },
  {
   "cell_type": "code",
   "execution_count": 7,
   "metadata": {},
   "outputs": [],
   "source": [
    "df = spark.read.option(\"header\", \"true\").csv(\"data/clean_data/*.csv\")"
   ]
  },
  {
   "cell_type": "code",
   "execution_count": 8,
   "metadata": {},
   "outputs": [
    {
     "name": "stdout",
     "output_type": "stream",
     "text": [
      "+------+-------+-----------+-------------+-----------------+---------+--------------------+\n",
      "|    id|country|       city|neighbourhood|    property_type|    price|review_scores_rating|\n",
      "+------+-------+-----------+-------------+-----------------+---------+--------------------+\n",
      "|145320| Sweden|  Stockholm|    Södermalm|        Apartment|$1,272.00|                  97|\n",
      "|155685| Sweden|  Stockholm|    Södermalm|        Apartment|$3,209.00|                  94|\n",
      "|164448| Sweden|  Stockholm|    Södermalm|        Apartment|  $597.00|                  97|\n",
      "|170651| Sweden|  Stockholm|    Södermalm|        Apartment|  $734.00|                  93|\n",
      "|206221| Sweden|  Stockholm|    Södermalm|Bed and breakfast|  $665.00|                  98|\n",
      "|220851| Sweden|  Stockholm|  Kungsholmen|        Apartment|  $597.00|                  93|\n",
      "|242188| Sweden|  Stockholm|    Södermalm|        Apartment|  $558.00|                  97|\n",
      "|259025| Sweden|  Stockholm|Rinkeby-Kista|        Townhouse|  $196.00|                  89|\n",
      "|259722| Sweden|  Stockholm|Rinkeby-Kista|        Apartment|  $225.00|                  92|\n",
      "|273906| Sweden|  Stockholm|    Skarpnäck|        Apartment|$1,957.00|                 100|\n",
      "|274876| Sweden|  Stockholm|    Södermalm|        Apartment|$3,150.00|                  99|\n",
      "|278311| Sweden|     Farsta|       Farsta|        Apartment|  $411.00|                  92|\n",
      "|283446| Sweden|  Stockholm|Rinkeby-Kista|        Apartment|  $294.00|                  97|\n",
      "|299154| Sweden|  Stockholm|    Södermalm|        Apartment|$1,106.00|                  92|\n",
      "|301680| Sweden|    Långbro|       Älvsjö|Bed and breakfast|  $753.00|                  92|\n",
      "|302496| Sweden|   Norrmalm|     Norrmalm|        Apartment|$2,798.00|                  99|\n",
      "|313195| Sweden|  Stockholm|     Norrmalm|        Apartment|  $900.00|                  96|\n",
      "|313763| Sweden|  Stockholm|     Norrmalm|             Loft|  $646.00|                  98|\n",
      "|338470| Sweden|  Östermalm|    Östermalm|        Apartment|$1,233.00|                  98|\n",
      "|343925| Sweden|Kungsholmen|  Kungsholmen|        Apartment|  $753.00|                  93|\n",
      "+------+-------+-----------+-------------+-----------------+---------+--------------------+\n",
      "only showing top 20 rows\n",
      "\n"
     ]
    }
   ],
   "source": [
    "df.show()"
   ]
  },
  {
   "cell_type": "code",
   "execution_count": null,
   "metadata": {},
   "outputs": [],
   "source": [
    "# Subset of Review data and change column name \n",
    "df_review = df_review.select('listing_id', 'reviewer_id', f.col('id').alias('review_id'),\\\n",
    "                             'date')\n",
    "\n",
    "df_review = df_review.dropna(how='any')\n",
    "df_review.show()"
   ]
  },
  {
   "cell_type": "code",
   "execution_count": 37,
   "metadata": {},
   "outputs": [
    {
     "name": "stdout",
     "output_type": "stream",
     "text": [
      "+----------+-----------+---------+----------+\n",
      "|listing_id|reviewer_id|review_id|      date|\n",
      "+----------+-----------+---------+----------+\n",
      "|    145320|  123386382|156423122|2017-05-30|\n",
      "|    145320|  123091743|170211906|2017-07-15|\n",
      "|    145320|      78004|172169175|2017-07-20|\n",
      "|    145320|  103178743|176647581|2017-07-31|\n",
      "|    145320|    4023961|185676021|2017-08-22|\n",
      "|    145320|  142869362|189668224|2017-09-02|\n",
      "|    145320|   25194419|191894030|2017-09-09|\n",
      "|    145320|   52056015|193316070|2017-09-13|\n",
      "|    145320|    3980456|196760607|2017-09-24|\n",
      "|    145320|   72139946|201885633|2017-10-09|\n",
      "|    145320|   23002655|203410181|2017-10-15|\n",
      "|    145320|    3451329|210619953|2017-11-10|\n",
      "|    145320|  105945750|211523951|2017-11-13|\n",
      "|    145320|     203826|212932349|2017-11-19|\n",
      "|    145320|   70756436|214018139|2017-11-24|\n",
      "|    145320|   10655526|216533345|2017-12-04|\n",
      "|    145320|   29246547|219021131|2017-12-16|\n",
      "|    145320|  160717975|231273225|2018-01-31|\n",
      "|    145320|   33212603|233159940|2018-02-08|\n",
      "|    145320|  160422715|234271335|2018-02-12|\n",
      "+----------+-----------+---------+----------+\n",
      "only showing top 20 rows\n",
      "\n"
     ]
    }
   ],
   "source": [
    "df_review.show()"
   ]
  },
  {
   "cell_type": "code",
   "execution_count": 41,
   "metadata": {},
   "outputs": [],
   "source": [
    "df_review.write.csv('data/clean_review_data',header=True)"
   ]
  },
  {
   "cell_type": "code",
   "execution_count": 42,
   "metadata": {},
   "outputs": [],
   "source": [
    "df_review = spark.read.option(\"header\", \"true\").csv(\"data/clean_review_data/*.csv\")"
   ]
  },
  {
   "cell_type": "markdown",
   "metadata": {},
   "source": [
    "# Part 2: Analysis\n",
    "Use Spark and your favorite tool for data visualization to solve the following tasks.\n",
    "\n",
    "## The basics\n",
    "Compute and show a dataframe with the number of listings and neighbourhoods per city."
   ]
  },
  {
   "cell_type": "code",
   "execution_count": 9,
   "metadata": {},
   "outputs": [
    {
     "name": "stdout",
     "output_type": "stream",
     "text": [
      "+--------------+--------+--------------+\n",
      "|          city|Listings|Neighbourhoods|\n",
      "+--------------+--------+--------------+\n",
      "|Greater London|   33230|           149|\n",
      "|        London|   25734|           148|\n",
      "|       Toronto|   17876|           140|\n",
      "|     San Diego|   10331|           107|\n",
      "|    Washington|    7227|           106|\n",
      "|   Los Angeles|   22328|            95|\n",
      "|        Berlin|   19719|            93|\n",
      "|      New York|   16163|            91|\n",
      "|      Portland|    4098|            90|\n",
      "|   Minneapolis|    2082|            88|\n",
      "|       Chicago|    7642|            87|\n",
      "|       Seattle|    7667|            79|\n",
      "|        Austin|    8042|            79|\n",
      "|        Denver|    4074|            77|\n",
      "|Rio de Janeiro|    9566|            75|\n",
      "|       Oakland|    2619|            75|\n",
      "|        Sydney|     841|            69|\n",
      "|     Barcelona|   15530|            68|\n",
      "|        Madrid|   15782|            66|\n",
      "|        Dublin|    3302|            65|\n",
      "+--------------+--------+--------------+\n",
      "only showing top 20 rows\n",
      "\n"
     ]
    }
   ],
   "source": [
    "df.groupby('city').agg(f.count('id').alias('Listings'), f.countDistinct('neighbourhood').alias('Neighbourhoods')).orderBy(f.desc('Neighbourhoods')).show()"
   ]
  },
  {
   "cell_type": "markdown",
   "metadata": {},
   "source": [
    "Based on the table above, you should choose a city that you want to continue your analysis for. The city should have mulitple neighbourhoods with listings in them.\n",
    "\n",
    "Compute and visualize the number of listings of different property types per neighbourhood in your city."
   ]
  },
  {
   "cell_type": "code",
   "execution_count": 75,
   "metadata": {},
   "outputs": [],
   "source": [
    "import re\n",
    "def extract_cph(city):\n",
    "    regex_pattern = r'(.*København.*|.*Copenhagen.*)'\n",
    "    if re.match(regex_pattern, city, re.IGNORECASE):\n",
    "        return True\n",
    "    return False\n",
    "\n",
    "extract_cph_udf = f.udf(extract_cph, BooleanType())"
   ]
  },
  {
   "cell_type": "code",
   "execution_count": 87,
   "metadata": {},
   "outputs": [
    {
     "data": {
      "text/html": [
       "<div>\n",
       "<style scoped>\n",
       "    .dataframe tbody tr th:only-of-type {\n",
       "        vertical-align: middle;\n",
       "    }\n",
       "\n",
       "    .dataframe tbody tr th {\n",
       "        vertical-align: top;\n",
       "    }\n",
       "\n",
       "    .dataframe thead th {\n",
       "        text-align: right;\n",
       "    }\n",
       "</style>\n",
       "<table border=\"1\" class=\"dataframe\">\n",
       "  <thead>\n",
       "    <tr style=\"text-align: right;\">\n",
       "      <th></th>\n",
       "      <th>property_type</th>\n",
       "      <th>neighbourhood</th>\n",
       "      <th>count(id)</th>\n",
       "    </tr>\n",
       "  </thead>\n",
       "  <tbody>\n",
       "    <tr>\n",
       "      <th>176</th>\n",
       "      <td>Apartment</td>\n",
       "      <td>Amager</td>\n",
       "      <td>1409</td>\n",
       "    </tr>\n",
       "    <tr>\n",
       "      <th>177</th>\n",
       "      <td>Apartment</td>\n",
       "      <td>Østerbro</td>\n",
       "      <td>2086</td>\n",
       "    </tr>\n",
       "    <tr>\n",
       "      <th>178</th>\n",
       "      <td>Apartment</td>\n",
       "      <td>Indre By</td>\n",
       "      <td>2456</td>\n",
       "    </tr>\n",
       "    <tr>\n",
       "      <th>179</th>\n",
       "      <td>Apartment</td>\n",
       "      <td>Vesterbro</td>\n",
       "      <td>3162</td>\n",
       "    </tr>\n",
       "    <tr>\n",
       "      <th>180</th>\n",
       "      <td>Apartment</td>\n",
       "      <td>Nørrebro</td>\n",
       "      <td>4163</td>\n",
       "    </tr>\n",
       "  </tbody>\n",
       "</table>\n",
       "</div>"
      ],
      "text/plain": [
       "    property_type neighbourhood  count(id)\n",
       "176     Apartment        Amager       1409\n",
       "177     Apartment      Østerbro       2086\n",
       "178     Apartment      Indre By       2456\n",
       "179     Apartment     Vesterbro       3162\n",
       "180     Apartment      Nørrebro       4163"
      ]
     },
     "execution_count": 87,
     "metadata": {},
     "output_type": "execute_result"
    }
   ],
   "source": [
    "prop_neigh_city = df.filter(extract_cph_udf(df.city)).groupby('property_type','neighbourhood').agg(f.count('id')).orderBy('count(id)').toPandas()\n",
    "prop_neigh_city.tail()"
   ]
  },
  {
   "cell_type": "code",
   "execution_count": 89,
   "metadata": {},
   "outputs": [
    {
     "data": {
      "image/png": "[encoded data removed]",
      "text/plain": [
       "<Figure size 1152x432 with 1 Axes>"
      ]
     },
     "metadata": {},
     "output_type": "display_data"
    }
   ],
   "source": [
    "prop_neigh_city = prop_neigh_city[prop_neigh_city['count(id)']>10]\n",
    "prop_neigh_city.pivot(index='neighbourhood',columns='property_type',\\\n",
    "                      values='count(id)').plot(kind='bar',figsize=(16,6),stacked=True)\n",
    "plt.show()"
   ]
  },
  {
   "cell_type": "markdown",
   "metadata": {},
   "source": [
    "## Prices\n",
    "Compute the minimum, maximum and average listing price in your city. "
   ]
  },
  {
   "cell_type": "code",
   "execution_count": 79,
   "metadata": {},
   "outputs": [
    {
     "data": {
      "text/plain": [
       "20526"
      ]
     },
     "execution_count": 79,
     "metadata": {},
     "output_type": "execute_result"
    }
   ],
   "source": [
    "df_cph = df.filter(extract_cph_udf(df.city))\n",
    "df_cph.count()"
   ]
  },
  {
   "cell_type": "code",
   "execution_count": 81,
   "metadata": {},
   "outputs": [
    {
     "name": "stdout",
     "output_type": "stream",
     "text": [
      "+------+-------+----------+-------------+-------------+---------+--------------------+\n",
      "|    id|country|      city|neighbourhood|property_type|    price|review_scores_rating|\n",
      "+------+-------+----------+-------------+-------------+---------+--------------------+\n",
      "|  6983|Denmark|Copenhagen|     Nørrebro|    Apartment|  $375.00|                  96|\n",
      "| 26057|Denmark|Copenhagen|     Indre By|        House|$2,402.00|                  99|\n",
      "| 26473|Denmark|Copenhagen|     Indre By|        House|$3,098.00|                  90|\n",
      "| 29118|Denmark|Copenhagen|    Vesterbro|    Apartment|  $798.00|                  98|\n",
      "| 29618|Denmark|Copenhagen|     Østerbro|    Apartment|  $860.00|                  94|\n",
      "| 31094|Denmark|Copenhagen|    Vesterbro|    Apartment|  $751.00|                  97|\n",
      "| 32011|Denmark|Copenhagen|     Nørrebro|    Apartment|  $573.00|                  96|\n",
      "| 32379|Denmark|Copenhagen|    Vesterbro|    Apartment|$1,085.00|                  98|\n",
      "| 32841|Denmark| København|     Østerbro|    Apartment|  $587.00|                  91|\n",
      "| 33680|Denmark|Copenhagen|    Vesterbro|    Apartment|$1,003.00|                  95|\n",
      "| 49122|Denmark|Copenhagen|     Indre By|    Apartment|  $348.00|                  92|\n",
      "| 53776|Denmark|Copenhagen|    Vesterbro|    Apartment|  $682.00|                  98|\n",
      "| 60048|Denmark|Copenhagen|    Vesterbro|    Apartment|  $921.00|                  95|\n",
      "| 65902|Denmark|Copenhagen|     Nørrebro|  Condominium|  $450.00|                  94|\n",
      "| 75158|Denmark|Copenhagen|    Vesterbro|    Apartment|  $648.00|                  96|\n",
      "| 78381|Denmark|Copenhagen|     Indre By|    Apartment|$1,085.00|                  97|\n",
      "| 96080|Denmark|Copenhagen|     Østerbro|  Condominium|  $949.00|                  97|\n",
      "|117702|Denmark|Copenhagen|     Nørrebro|    Apartment|  $437.00|                  96|\n",
      "|118649|Denmark|Copenhagen|     Indre By|    Apartment|$1,836.00|                  94|\n",
      "|118971|Denmark| København|     Nørrebro|    Apartment|$1,952.00|                  93|\n",
      "+------+-------+----------+-------------+-------------+---------+--------------------+\n",
      "only showing top 20 rows\n",
      "\n"
     ]
    }
   ],
   "source": [
    "df_cph.show()"
   ]
  },
  {
   "cell_type": "code",
   "execution_count": 90,
   "metadata": {},
   "outputs": [],
   "source": [
    "# Cast price into double\n",
    "df_cph = df_cph.withColumn(\"price\",f.expr(\"substring(price, 2, length(price))\"))\n",
    "df_cph = df_cph.withColumn(\"price\", f.regexp_replace(f.col(\"price\"), \",\", \"\"))\n",
    "df_cph = df_cph.withColumn(\"price\",df_cph[\"price\"].cast(DoubleType()))"
   ]
  },
  {
   "cell_type": "code",
   "execution_count": 91,
   "metadata": {},
   "outputs": [
    {
     "name": "stdout",
     "output_type": "stream",
     "text": [
      "+------+-------+----------+-------------+-------------+------+--------------------+\n",
      "|    id|country|      city|neighbourhood|property_type| price|review_scores_rating|\n",
      "+------+-------+----------+-------------+-------------+------+--------------------+\n",
      "|  6983|Denmark|Copenhagen|     Nørrebro|    Apartment| 375.0|                  96|\n",
      "| 26057|Denmark|Copenhagen|     Indre By|        House|2402.0|                  99|\n",
      "| 26473|Denmark|Copenhagen|     Indre By|        House|3098.0|                  90|\n",
      "| 29118|Denmark|Copenhagen|    Vesterbro|    Apartment| 798.0|                  98|\n",
      "| 29618|Denmark|Copenhagen|     Østerbro|    Apartment| 860.0|                  94|\n",
      "| 31094|Denmark|Copenhagen|    Vesterbro|    Apartment| 751.0|                  97|\n",
      "| 32011|Denmark|Copenhagen|     Nørrebro|    Apartment| 573.0|                  96|\n",
      "| 32379|Denmark|Copenhagen|    Vesterbro|    Apartment|1085.0|                  98|\n",
      "| 32841|Denmark| København|     Østerbro|    Apartment| 587.0|                  91|\n",
      "| 33680|Denmark|Copenhagen|    Vesterbro|    Apartment|1003.0|                  95|\n",
      "| 49122|Denmark|Copenhagen|     Indre By|    Apartment| 348.0|                  92|\n",
      "| 53776|Denmark|Copenhagen|    Vesterbro|    Apartment| 682.0|                  98|\n",
      "| 60048|Denmark|Copenhagen|    Vesterbro|    Apartment| 921.0|                  95|\n",
      "| 65902|Denmark|Copenhagen|     Nørrebro|  Condominium| 450.0|                  94|\n",
      "| 75158|Denmark|Copenhagen|    Vesterbro|    Apartment| 648.0|                  96|\n",
      "| 78381|Denmark|Copenhagen|     Indre By|    Apartment|1085.0|                  97|\n",
      "| 96080|Denmark|Copenhagen|     Østerbro|  Condominium| 949.0|                  97|\n",
      "|117702|Denmark|Copenhagen|     Nørrebro|    Apartment| 437.0|                  96|\n",
      "|118649|Denmark|Copenhagen|     Indre By|    Apartment|1836.0|                  94|\n",
      "|118971|Denmark| København|     Nørrebro|    Apartment|1952.0|                  93|\n",
      "+------+-------+----------+-------------+-------------+------+--------------------+\n",
      "only showing top 20 rows\n",
      "\n"
     ]
    }
   ],
   "source": [
    "df_cph.show()"
   ]
  },
  {
   "cell_type": "code",
   "execution_count": 92,
   "metadata": {
    "scrolled": true
   },
   "outputs": [
    {
     "name": "stdout",
     "output_type": "stream",
     "text": [
      "Basic statistics for Copenhagen\n",
      "+-----------------+---------+---------+\n",
      "|    Average price|Max price|Min price|\n",
      "+-----------------+---------+---------+\n",
      "|815.9543505797525|  59999.0|      0.0|\n",
      "+-----------------+---------+---------+\n",
      "\n"
     ]
    }
   ],
   "source": [
    "print(\"Basic statistics for\", city)\n",
    "df_cph.select(f.avg('price').alias(\"Average price\"), f.max('price').alias(\"Max price\"), f.min('price').alias(\"Min price\")).show()"
   ]
  },
  {
   "cell_type": "markdown",
   "metadata": {},
   "source": [
    "Compute and visualize the distribution of listing prices in your city."
   ]
  },
  {
   "cell_type": "code",
   "execution_count": 93,
   "metadata": {},
   "outputs": [],
   "source": [
    "import numpy as np\n",
    "from scipy import stats\n",
    "sns.set_palette(\"cubehelix\", 4)\n",
    "plt.style.use(['seaborn-whitegrid'])\n",
    "sns.set(rc={'figure.figsize':(16,6)})"
   ]
  },
  {
   "cell_type": "code",
   "execution_count": 96,
   "metadata": {},
   "outputs": [
    {
     "data": {
      "image/png": "[encoded data removed]",
      "text/plain": [
       "<Figure size 1152x432 with 1 Axes>"
      ]
     },
     "metadata": {},
     "output_type": "display_data"
    }
   ],
   "source": [
    "df_city_p = df_cph.toPandas()\n",
    "plt.hist(df_city_p.price,bins=1500)\n",
    "plt.title('Distribution of prices in Copenhagen')\n",
    "plt.xlabel('Price')\n",
    "plt.xlim(0,4000)\n",
    "plt.ylabel('Count');"
   ]
  },
  {
   "cell_type": "markdown",
   "metadata": {},
   "source": [
    "The value of a listing is its rating divided by its price.\n",
    "\n",
    "Compute and show a dataframe with the 3 highest valued listings in each neighbourhood."
   ]
  },
  {
   "cell_type": "code",
   "execution_count": 97,
   "metadata": {},
   "outputs": [],
   "source": [
    "# Create new value column\n",
    "df_value = df_cph.withColumn(\"review_scores_rating\",df_cph[\"review_scores_rating\"].cast(DoubleType()))\n",
    "df_value = df_value.withColumn(\"value\",f.lit(f.col(\"review_scores_rating\")/f.col(\"price\")))"
   ]
  },
  {
   "cell_type": "code",
   "execution_count": 98,
   "metadata": {},
   "outputs": [
    {
     "name": "stdout",
     "output_type": "stream",
     "text": [
      "+------+-------+----------+-------------+-------------+------+--------------------+--------------------+\n",
      "|    id|country|      city|neighbourhood|property_type| price|review_scores_rating|               value|\n",
      "+------+-------+----------+-------------+-------------+------+--------------------+--------------------+\n",
      "|  6983|Denmark|Copenhagen|     Nørrebro|    Apartment| 375.0|                96.0|               0.256|\n",
      "| 26057|Denmark|Copenhagen|     Indre By|        House|2402.0|                99.0| 0.04121565362198168|\n",
      "| 26473|Denmark|Copenhagen|     Indre By|        House|3098.0|                90.0|0.029051000645577793|\n",
      "| 29118|Denmark|Copenhagen|    Vesterbro|    Apartment| 798.0|                98.0| 0.12280701754385964|\n",
      "| 29618|Denmark|Copenhagen|     Østerbro|    Apartment| 860.0|                94.0| 0.10930232558139535|\n",
      "| 31094|Denmark|Copenhagen|    Vesterbro|    Apartment| 751.0|                97.0| 0.12916111850865514|\n",
      "| 32011|Denmark|Copenhagen|     Nørrebro|    Apartment| 573.0|                96.0| 0.16753926701570682|\n",
      "| 32379|Denmark|Copenhagen|    Vesterbro|    Apartment|1085.0|                98.0| 0.09032258064516129|\n",
      "| 32841|Denmark| København|     Østerbro|    Apartment| 587.0|                91.0| 0.15502555366269166|\n",
      "| 33680|Denmark|Copenhagen|    Vesterbro|    Apartment|1003.0|                95.0| 0.09471585244267199|\n",
      "| 49122|Denmark|Copenhagen|     Indre By|    Apartment| 348.0|                92.0| 0.26436781609195403|\n",
      "| 53776|Denmark|Copenhagen|    Vesterbro|    Apartment| 682.0|                98.0|  0.1436950146627566|\n",
      "| 60048|Denmark|Copenhagen|    Vesterbro|    Apartment| 921.0|                95.0| 0.10314875135722042|\n",
      "| 65902|Denmark|Copenhagen|     Nørrebro|  Condominium| 450.0|                94.0|  0.2088888888888889|\n",
      "| 75158|Denmark|Copenhagen|    Vesterbro|    Apartment| 648.0|                96.0| 0.14814814814814814|\n",
      "| 78381|Denmark|Copenhagen|     Indre By|    Apartment|1085.0|                97.0| 0.08940092165898618|\n",
      "| 96080|Denmark|Copenhagen|     Østerbro|  Condominium| 949.0|                97.0| 0.10221285563751317|\n",
      "|117702|Denmark|Copenhagen|     Nørrebro|    Apartment| 437.0|                96.0| 0.21967963386727687|\n",
      "|118649|Denmark|Copenhagen|     Indre By|    Apartment|1836.0|                94.0| 0.05119825708061002|\n",
      "|118971|Denmark| København|     Nørrebro|    Apartment|1952.0|                93.0| 0.04764344262295082|\n",
      "+------+-------+----------+-------------+-------------+------+--------------------+--------------------+\n",
      "only showing top 20 rows\n",
      "\n"
     ]
    }
   ],
   "source": [
    "df_value.show()"
   ]
  },
  {
   "cell_type": "code",
   "execution_count": 99,
   "metadata": {},
   "outputs": [],
   "source": [
    "sorted_by_value = Window.partitionBy('neighbourhood').orderBy(f.desc('value'))\n",
    "\n",
    "ranked_by_value = df_value.withColumn('value_rank', f.rank().over(sorted_by_value))\n",
    "\n",
    "ranked_df = ranked_by_value.filter(f.col('value_rank') <= 3).drop('value_rank').orderBy('neighbourhood', f.desc('value'))"
   ]
  },
  {
   "cell_type": "code",
   "execution_count": 100,
   "metadata": {
    "scrolled": false
   },
   "outputs": [
    {
     "name": "stdout",
     "output_type": "stream",
     "text": [
      "+--------+-------+-----------+--------------+-------------+-----+--------------------+-------------------+\n",
      "|      id|country|       city| neighbourhood|property_type|price|review_scores_rating|              value|\n",
      "+--------+-------+-----------+--------------+-------------+-----+--------------------+-------------------+\n",
      "| 5710617|Denmark| Copenhagen|        Amager|    Apartment|150.0|               100.0| 0.6666666666666666|\n",
      "|22900213|Denmark|  København|        Amager|    Apartment|178.0|               100.0| 0.5617977528089888|\n",
      "|23337696|Denmark|  København|        Amager|    Apartment|178.0|               100.0| 0.5617977528089888|\n",
      "|27815787|Denmark| Copenhagen|   Amager Vest|    Apartment| 75.0|               100.0| 1.3333333333333333|\n",
      "| 4831559|Denmark| Copenhagen|   Amager Vest|    Apartment| 96.0|                90.0|             0.9375|\n",
      "|37172149|Denmark|  København|   Amager Vest|    Apartment|177.0|               100.0| 0.5649717514124294|\n",
      "|13746265|Denmark|  København|    Amager Øst|    Apartment| 68.0|               100.0| 1.4705882352941178|\n",
      "|33156740|Denmark|København S|    Amager Øst|    Apartment|123.0|                95.0| 0.7723577235772358|\n",
      "|15472837|Denmark|  København|    Amager Øst|    Apartment|137.0|                96.0| 0.7007299270072993|\n",
      "|11860639|Denmark|  København|     Amagerbro|    Apartment|157.0|                98.0| 0.6242038216560509|\n",
      "|23213098|Denmark|  København|     Amagerbro|    Apartment|212.0|               100.0| 0.4716981132075472|\n",
      "|18621920|Denmark|  København|     Amagerbro|    Apartment|253.0|               100.0| 0.3952569169960474|\n",
      "|14162456|Denmark|  København|      Brønshøj|    Apartment|123.0|                87.0| 0.7073170731707317|\n",
      "|30925351|Denmark|  København|      Brønshøj|    Apartment|150.0|               100.0| 0.6666666666666666|\n",
      "|10491752|Denmark|  København|      Brønshøj|    Apartment|137.0|                90.0|  0.656934306569343|\n",
      "|14295875|Denmark|  København|   Christiania|    Apartment|751.0|                85.0|0.11318242343541944|\n",
      "|24096788|Denmark|  København|Christianshavn|    Apartment|253.0|               100.0| 0.3952569169960474|\n",
      "| 3145494|Denmark| Copenhagen|Christianshavn|    Apartment|280.0|                97.0| 0.3464285714285714|\n",
      "|12194944|Denmark|  København|Christianshavn|    Apartment|369.0|               100.0|0.27100271002710025|\n",
      "|19115574|Denmark|  København| Frederiksberg|    Townhouse|259.0|                87.0| 0.3359073359073359|\n",
      "+--------+-------+-----------+--------------+-------------+-----+--------------------+-------------------+\n",
      "only showing top 20 rows\n",
      "\n"
     ]
    }
   ],
   "source": [
    "ranked_df.show()"
   ]
  },
  {
   "cell_type": "markdown",
   "metadata": {},
   "source": [
    "## Trends\n",
    "Now we want to analyze the \"popularity\" of your city. The data does not contain the number of bookings per listing, but we have a large number of reviews, and we will assume that this is a good indicator of activity on listings."
   ]
  },
  {
   "cell_type": "markdown",
   "metadata": {},
   "source": [
    "Compute and visualize the popularity (i.e., number of reviews) of your city over time."
   ]
  },
  {
   "cell_type": "code",
   "execution_count": 43,
   "metadata": {},
   "outputs": [
    {
     "name": "stdout",
     "output_type": "stream",
     "text": [
      "+----------+-----------+---------+----------+\n",
      "|listing_id|reviewer_id|review_id|      date|\n",
      "+----------+-----------+---------+----------+\n",
      "|    145320|  123386382|156423122|2017-05-30|\n",
      "|    145320|  123091743|170211906|2017-07-15|\n",
      "|    145320|      78004|172169175|2017-07-20|\n",
      "|    145320|  103178743|176647581|2017-07-31|\n",
      "|    145320|    4023961|185676021|2017-08-22|\n",
      "|    145320|  142869362|189668224|2017-09-02|\n",
      "|    145320|   25194419|191894030|2017-09-09|\n",
      "|    145320|   52056015|193316070|2017-09-13|\n",
      "|    145320|    3980456|196760607|2017-09-24|\n",
      "|    145320|   72139946|201885633|2017-10-09|\n",
      "|    145320|   23002655|203410181|2017-10-15|\n",
      "|    145320|    3451329|210619953|2017-11-10|\n",
      "|    145320|  105945750|211523951|2017-11-13|\n",
      "|    145320|     203826|212932349|2017-11-19|\n",
      "|    145320|   70756436|214018139|2017-11-24|\n",
      "|    145320|   10655526|216533345|2017-12-04|\n",
      "|    145320|   29246547|219021131|2017-12-16|\n",
      "|    145320|  160717975|231273225|2018-01-31|\n",
      "|    145320|   33212603|233159940|2018-02-08|\n",
      "|    145320|  160422715|234271335|2018-02-12|\n",
      "+----------+-----------+---------+----------+\n",
      "only showing top 20 rows\n",
      "\n"
     ]
    }
   ],
   "source": [
    "df_review.show()"
   ]
  },
  {
   "cell_type": "code",
   "execution_count": 101,
   "metadata": {},
   "outputs": [],
   "source": [
    "# left-join Review-data on Listing-data on listing_id and id\n",
    "df_join = df_cph.join(df_review, (df_cph.id == df_review.listing_id), how='left')\n",
    "\n",
    "# Groupby date count reviews\n",
    "df_plot = df_join.groupby('date').agg(f.count('review_id')).toPandas()"
   ]
  },
  {
   "cell_type": "code",
   "execution_count": 102,
   "metadata": {},
   "outputs": [],
   "source": [
    "df_plot.date = pd.to_datetime(df_plot.date)\n",
    "df_plot = df_plot.groupby(pd.Grouper(key='date',freq='M')).sum()"
   ]
  },
  {
   "cell_type": "code",
   "execution_count": 103,
   "metadata": {},
   "outputs": [
    {
     "data": {
      "image/png": "[encoded data removed]",
      "text/plain": [
       "<Figure size 1152x432 with 1 Axes>"
      ]
     },
     "metadata": {},
     "output_type": "display_data"
    }
   ],
   "source": [
    "df_plot.plot(figsize=(16,6))\n",
    "\n",
    "plt.title('Reviews per month over entire time period')\n",
    "plt.ylabel('Count')\n",
    "plt.show()"
   ]
  },
  {
   "cell_type": "markdown",
   "metadata": {},
   "source": [
    "Compute and visualize the popularity of neighbourhoods over time. If there are many neighbourhoods in your city, you should select a few interesting ones for comparison."
   ]
  },
  {
   "cell_type": "code",
   "execution_count": 104,
   "metadata": {},
   "outputs": [],
   "source": [
    "df_plot = df_join.groupby('date','neighbourhood').agg(f.count('review_id')).toPandas()"
   ]
  },
  {
   "cell_type": "code",
   "execution_count": 106,
   "metadata": {},
   "outputs": [],
   "source": [
    "df_plot.date = pd.to_datetime(df_plot.date)\n",
    "df_plot = df_plot.groupby(['neighbourhood',pd.Grouper(key='date',freq='M')]).sum().reset_index()"
   ]
  },
  {
   "cell_type": "code",
   "execution_count": 107,
   "metadata": {},
   "outputs": [],
   "source": [
    "df_plot = df_plot.pivot(index='date',columns='neighbourhood',\\\n",
    "                      values='count(review_id)')\n",
    "df_plot = df_plot[df_plot.index.notnull()].reset_index()\n",
    "df_plot = df_plot.fillna(0)"
   ]
  },
  {
   "cell_type": "code",
   "execution_count": 108,
   "metadata": {},
   "outputs": [
    {
     "data": {
      "image/png": "[encoded data removed]",
      "text/plain": [
       "<Figure size 1152x432 with 1 Axes>"
      ]
     },
     "metadata": {},
     "output_type": "display_data"
    }
   ],
   "source": [
    "df_plot.plot(x='date', y=['Østerbro','Nørrebro','Vesterbro'],figsize=(16,6))\n",
    "plt.show()"
   ]
  },
  {
   "cell_type": "markdown",
   "metadata": {},
   "source": [
    "Compute and visualize the popularity of your city by season. For example, visualize the popularity of your city per month."
   ]
  },
  {
   "cell_type": "code",
   "execution_count": 115,
   "metadata": {},
   "outputs": [],
   "source": [
    "df_plot = df_join.groupby('date').agg(f.count('review_id')).toPandas()\n",
    "\n",
    "df_plot.date = pd.to_datetime(df_plot.date)\n",
    "df_plot['date'] = df_plot['date'].dt.month\n",
    "\n",
    "df_plot = df_plot.groupby('date',as_index=False).sum()"
   ]
  },
  {
   "cell_type": "code",
   "execution_count": 116,
   "metadata": {},
   "outputs": [
    {
     "data": {
      "text/html": [
       "<div>\n",
       "<style scoped>\n",
       "    .dataframe tbody tr th:only-of-type {\n",
       "        vertical-align: middle;\n",
       "    }\n",
       "\n",
       "    .dataframe tbody tr th {\n",
       "        vertical-align: top;\n",
       "    }\n",
       "\n",
       "    .dataframe thead th {\n",
       "        text-align: right;\n",
       "    }\n",
       "</style>\n",
       "<table border=\"1\" class=\"dataframe\">\n",
       "  <thead>\n",
       "    <tr style=\"text-align: right;\">\n",
       "      <th></th>\n",
       "      <th>date</th>\n",
       "      <th>count(review_id)</th>\n",
       "    </tr>\n",
       "  </thead>\n",
       "  <tbody>\n",
       "    <tr>\n",
       "      <th>0</th>\n",
       "      <td>1.0</td>\n",
       "      <td>14278</td>\n",
       "    </tr>\n",
       "    <tr>\n",
       "      <th>1</th>\n",
       "      <td>2.0</td>\n",
       "      <td>13848</td>\n",
       "    </tr>\n",
       "    <tr>\n",
       "      <th>2</th>\n",
       "      <td>3.0</td>\n",
       "      <td>18291</td>\n",
       "    </tr>\n",
       "    <tr>\n",
       "      <th>3</th>\n",
       "      <td>4.0</td>\n",
       "      <td>25662</td>\n",
       "    </tr>\n",
       "    <tr>\n",
       "      <th>4</th>\n",
       "      <td>5.0</td>\n",
       "      <td>38965</td>\n",
       "    </tr>\n",
       "    <tr>\n",
       "      <th>5</th>\n",
       "      <td>6.0</td>\n",
       "      <td>40965</td>\n",
       "    </tr>\n",
       "    <tr>\n",
       "      <th>6</th>\n",
       "      <td>7.0</td>\n",
       "      <td>48227</td>\n",
       "    </tr>\n",
       "    <tr>\n",
       "      <th>7</th>\n",
       "      <td>8.0</td>\n",
       "      <td>56509</td>\n",
       "    </tr>\n",
       "    <tr>\n",
       "      <th>8</th>\n",
       "      <td>9.0</td>\n",
       "      <td>36365</td>\n",
       "    </tr>\n",
       "    <tr>\n",
       "      <th>9</th>\n",
       "      <td>10.0</td>\n",
       "      <td>20591</td>\n",
       "    </tr>\n",
       "    <tr>\n",
       "      <th>10</th>\n",
       "      <td>11.0</td>\n",
       "      <td>15991</td>\n",
       "    </tr>\n",
       "    <tr>\n",
       "      <th>11</th>\n",
       "      <td>12.0</td>\n",
       "      <td>16548</td>\n",
       "    </tr>\n",
       "  </tbody>\n",
       "</table>\n",
       "</div>"
      ],
      "text/plain": [
       "    date  count(review_id)\n",
       "0    1.0             14278\n",
       "1    2.0             13848\n",
       "2    3.0             18291\n",
       "3    4.0             25662\n",
       "4    5.0             38965\n",
       "5    6.0             40965\n",
       "6    7.0             48227\n",
       "7    8.0             56509\n",
       "8    9.0             36365\n",
       "9   10.0             20591\n",
       "10  11.0             15991\n",
       "11  12.0             16548"
      ]
     },
     "execution_count": 116,
     "metadata": {},
     "output_type": "execute_result"
    }
   ],
   "source": [
    "df_plot"
   ]
  },
  {
   "cell_type": "code",
   "execution_count": 121,
   "metadata": {},
   "outputs": [
    {
     "data": {
      "image/png": "[encoded data removed]",
      "text/plain": [
       "<Figure size 1152x432 with 1 Axes>"
      ]
     },
     "metadata": {},
     "output_type": "display_data"
    }
   ],
   "source": [
    "fig = df_plot.plot(x='date', y='count(review_id)',figsize=(16,6))\n",
    "fig.set_xticks(np.arange(12))\n",
    "fig.set_xticklabels(['January','February','March','April','May','June','July','August','Septmenber','Oktober','November','December'])\n",
    "plt.title('Season popularity of Copenhagen')\n",
    "plt.xlabel('Month')\n",
    "plt.ylabel('Number of reviews')\n",
    "plt.show()"
   ]
  },
  {
   "cell_type": "code",
   "execution_count": 120,
   "metadata": {},
   "outputs": [
    {
     "data": {
      "text/plain": [
       "array([ 0,  1,  2,  3,  4,  5,  6,  7,  8,  9, 10, 11, 12])"
      ]
     },
     "execution_count": 120,
     "metadata": {},
     "output_type": "execute_result"
    }
   ],
   "source": [
    "np.arange(13)"
   ]
  },
  {
   "cell_type": "markdown",
   "metadata": {},
   "source": [
    "## Reviews\n",
    "In this part you should determine which words used in reviews that are the most positive. \n",
    "\n",
    "The individual reviews do not have a rating of the listing, so we will assume that each review gave the average rating to the listing, i.e., the one on the listing.\n",
    "\n",
    "You should assign a positivity weight to each word seen in reviews and list the words with the highest weight. It is up to you to decide what the weight should be. For example, it can be a function of the rating on the listing on which it occurs, the number of reviews it occurs in, and the number of unique listings for which it was used to review.\n",
    "\n",
    "Depending on your choice of weight function, you may also want to do some filtering of words. For example, remove words that only occur in a few reviews."
   ]
  },
  {
   "cell_type": "code",
   "execution_count": null,
   "metadata": {},
   "outputs": [],
   "source": [
    "import itertools\n",
    "import csv\n",
    "\n",
    "entries = []\n",
    "with open('/home/jovyan/work/Project3/reviews.csv', 'r') as f:\n",
    "    mycsv = csv.reader(f)\n",
    "    for row in itertools.islice(mycsv, 10000):\n",
    "        entries.append(row)\n",
    "        \n",
    "import pandas as pd\n",
    "columns_ = entries[0]\n",
    "df = pd.DataFrame(entries,columns=columns_)\n",
    "df = df.iloc[1:-1,:]\n",
    "#df.head()\n",
    "#df.to_csv(\"reviews_sub_10000.csv\")"
   ]
  },
  {
   "cell_type": "code",
   "execution_count": 38,
   "metadata": {},
   "outputs": [
    {
     "name": "stderr",
     "output_type": "stream",
     "text": [
      "/opt/conda/lib/python3.7/site-packages/IPython/core/interactiveshell.py:3058: DtypeWarning: Columns (1,3,16,17,19,20,28,33,34,41,49,50,54,55,56,57,60,66,68,69,70,71,72,73,74,75,78,79,80,81,83,84,87,88,89,90,91,92,93,95,96,102,103,104,105,106) have mixed types. Specify dtype option on import or set low_memory=False.\n",
      "  interactivity=interactivity, compiler=compiler, result=result)\n"
     ]
    }
   ],
   "source": [
    "r = pd.read_csv(\"reviews_sub_10000.csv\")\n",
    "l = pd.read_csv(\"listings_sub_10000.csv\")"
   ]
  },
  {
   "cell_type": "code",
   "execution_count": 39,
   "metadata": {},
   "outputs": [
    {
     "data": {
      "text/html": [
       "<div>\n",
       "<style scoped>\n",
       "    .dataframe tbody tr th:only-of-type {\n",
       "        vertical-align: middle;\n",
       "    }\n",
       "\n",
       "    .dataframe tbody tr th {\n",
       "        vertical-align: top;\n",
       "    }\n",
       "\n",
       "    .dataframe thead th {\n",
       "        text-align: right;\n",
       "    }\n",
       "</style>\n",
       "<table border=\"1\" class=\"dataframe\">\n",
       "  <thead>\n",
       "    <tr style=\"text-align: right;\">\n",
       "      <th></th>\n",
       "      <th>Unnamed: 0</th>\n",
       "      <th>listing_id</th>\n",
       "      <th>id</th>\n",
       "      <th>date</th>\n",
       "      <th>reviewer_id</th>\n",
       "      <th>reviewer_name</th>\n",
       "      <th>comments</th>\n",
       "    </tr>\n",
       "  </thead>\n",
       "  <tbody>\n",
       "    <tr>\n",
       "      <th>0</th>\n",
       "      <td>1</td>\n",
       "      <td>145320</td>\n",
       "      <td>156423122</td>\n",
       "      <td>2017-05-30</td>\n",
       "      <td>123386382</td>\n",
       "      <td>Erwin</td>\n",
       "      <td>Prima plek om Stockholm te bekijken. Alles is ...</td>\n",
       "    </tr>\n",
       "    <tr>\n",
       "      <th>1</th>\n",
       "      <td>2</td>\n",
       "      <td>145320</td>\n",
       "      <td>170211906</td>\n",
       "      <td>2017-07-15</td>\n",
       "      <td>123091743</td>\n",
       "      <td>Anne</td>\n",
       "      <td>Cosy and clean flat in quiet neighbourhood clo...</td>\n",
       "    </tr>\n",
       "    <tr>\n",
       "      <th>2</th>\n",
       "      <td>3</td>\n",
       "      <td>145320</td>\n",
       "      <td>172169175</td>\n",
       "      <td>2017-07-20</td>\n",
       "      <td>78004</td>\n",
       "      <td>Patricia</td>\n",
       "      <td>The host canceled this reservation 37 days bef...</td>\n",
       "    </tr>\n",
       "    <tr>\n",
       "      <th>3</th>\n",
       "      <td>4</td>\n",
       "      <td>145320</td>\n",
       "      <td>176647581</td>\n",
       "      <td>2017-07-31</td>\n",
       "      <td>103178743</td>\n",
       "      <td>Charlotte</td>\n",
       "      <td>Kim's place was outstanding and comfortable. W...</td>\n",
       "    </tr>\n",
       "    <tr>\n",
       "      <th>4</th>\n",
       "      <td>5</td>\n",
       "      <td>145320</td>\n",
       "      <td>185676021</td>\n",
       "      <td>2017-08-22</td>\n",
       "      <td>4023961</td>\n",
       "      <td>Alexander</td>\n",
       "      <td>great spacious apartment in a nice residential...</td>\n",
       "    </tr>\n",
       "  </tbody>\n",
       "</table>\n",
       "</div>"
      ],
      "text/plain": [
       "   Unnamed: 0  listing_id         id        date  reviewer_id reviewer_name  \\\n",
       "0           1      145320  156423122  2017-05-30    123386382         Erwin   \n",
       "1           2      145320  170211906  2017-07-15    123091743          Anne   \n",
       "2           3      145320  172169175  2017-07-20        78004      Patricia   \n",
       "3           4      145320  176647581  2017-07-31    103178743     Charlotte   \n",
       "4           5      145320  185676021  2017-08-22      4023961     Alexander   \n",
       "\n",
       "                                            comments  \n",
       "0  Prima plek om Stockholm te bekijken. Alles is ...  \n",
       "1  Cosy and clean flat in quiet neighbourhood clo...  \n",
       "2  The host canceled this reservation 37 days bef...  \n",
       "3  Kim's place was outstanding and comfortable. W...  \n",
       "4  great spacious apartment in a nice residential...  "
      ]
     },
     "execution_count": 39,
     "metadata": {},
     "output_type": "execute_result"
    }
   ],
   "source": [
    "r.head()"
   ]
  },
  {
   "cell_type": "code",
   "execution_count": 40,
   "metadata": {},
   "outputs": [
    {
     "data": {
      "text/html": [
       "<div>\n",
       "<style scoped>\n",
       "    .dataframe tbody tr th:only-of-type {\n",
       "        vertical-align: middle;\n",
       "    }\n",
       "\n",
       "    .dataframe tbody tr th {\n",
       "        vertical-align: top;\n",
       "    }\n",
       "\n",
       "    .dataframe thead th {\n",
       "        text-align: right;\n",
       "    }\n",
       "</style>\n",
       "<table border=\"1\" class=\"dataframe\">\n",
       "  <thead>\n",
       "    <tr style=\"text-align: right;\">\n",
       "      <th></th>\n",
       "      <th>Unnamed: 0</th>\n",
       "      <th>id</th>\n",
       "      <th>listing_url</th>\n",
       "      <th>scrape_id</th>\n",
       "      <th>last_scraped</th>\n",
       "      <th>name</th>\n",
       "      <th>summary</th>\n",
       "      <th>space</th>\n",
       "      <th>description</th>\n",
       "      <th>experiences_offered</th>\n",
       "      <th>...</th>\n",
       "      <th>instant_bookable</th>\n",
       "      <th>is_business_travel_ready</th>\n",
       "      <th>cancellation_policy</th>\n",
       "      <th>require_guest_profile_picture</th>\n",
       "      <th>require_guest_phone_verification</th>\n",
       "      <th>calculated_host_listings_count</th>\n",
       "      <th>calculated_host_listings_count_entire_homes</th>\n",
       "      <th>calculated_host_listings_count_private_rooms</th>\n",
       "      <th>calculated_host_listings_count_shared_rooms</th>\n",
       "      <th>reviews_per_month</th>\n",
       "    </tr>\n",
       "  </thead>\n",
       "  <tbody>\n",
       "    <tr>\n",
       "      <th>0</th>\n",
       "      <td>1</td>\n",
       "      <td>145320</td>\n",
       "      <td>https://www.airbnb.com/rooms/145320</td>\n",
       "      <td>20190928160308</td>\n",
       "      <td>2019-09-28</td>\n",
       "      <td>In the middle of it all - with a view!</td>\n",
       "      <td>Mitt boende passar par, kompisar och ensamäven...</td>\n",
       "      <td>A cozy three room flat with great personality....</td>\n",
       "      <td>Mitt boende passar par, kompisar och ensamäven...</td>\n",
       "      <td>none</td>\n",
       "      <td>...</td>\n",
       "      <td>t</td>\n",
       "      <td>f</td>\n",
       "      <td>strict_14_with_grace_period</td>\n",
       "      <td>f</td>\n",
       "      <td>f</td>\n",
       "      <td>1</td>\n",
       "      <td>0</td>\n",
       "      <td>1</td>\n",
       "      <td>0</td>\n",
       "      <td>2.54</td>\n",
       "    </tr>\n",
       "    <tr>\n",
       "      <th>1</th>\n",
       "      <td>2</td>\n",
       "      <td>155220</td>\n",
       "      <td>https://www.airbnb.com/rooms/155220</td>\n",
       "      <td>20190928160308</td>\n",
       "      <td>2019-09-28</td>\n",
       "      <td>Stockholm, new spacoius villa</td>\n",
       "      <td>Convenient and spacy home full of positive ene...</td>\n",
       "      <td>ABOUT THE HOUSE: Modern villa built in 2010. L...</td>\n",
       "      <td>ABOUT THE HOUSE: Modern villa built in 2010. L...</td>\n",
       "      <td>none</td>\n",
       "      <td>...</td>\n",
       "      <td>f</td>\n",
       "      <td>f</td>\n",
       "      <td>moderate</td>\n",
       "      <td>f</td>\n",
       "      <td>f</td>\n",
       "      <td>2</td>\n",
       "      <td>2</td>\n",
       "      <td>0</td>\n",
       "      <td>0</td>\n",
       "      <td>NaN</td>\n",
       "    </tr>\n",
       "    <tr>\n",
       "      <th>2</th>\n",
       "      <td>3</td>\n",
       "      <td>155685</td>\n",
       "      <td>https://www.airbnb.com/rooms/155685</td>\n",
       "      <td>20190928160308</td>\n",
       "      <td>2019-09-28</td>\n",
       "      <td>Hornstull with water view!</td>\n",
       "      <td>This apartment is located in the center of fun...</td>\n",
       "      <td>46 sqm apartment in Hornstulls, Södermalm Stoc...</td>\n",
       "      <td>This apartment is located in the center of fun...</td>\n",
       "      <td>none</td>\n",
       "      <td>...</td>\n",
       "      <td>f</td>\n",
       "      <td>f</td>\n",
       "      <td>moderate</td>\n",
       "      <td>f</td>\n",
       "      <td>f</td>\n",
       "      <td>1</td>\n",
       "      <td>1</td>\n",
       "      <td>0</td>\n",
       "      <td>0</td>\n",
       "      <td>0.22</td>\n",
       "    </tr>\n",
       "    <tr>\n",
       "      <th>3</th>\n",
       "      <td>4</td>\n",
       "      <td>164448</td>\n",
       "      <td>https://www.airbnb.com/rooms/164448</td>\n",
       "      <td>20190928160308</td>\n",
       "      <td>2019-09-28</td>\n",
       "      <td>Double room in central Stockholm with Wi-Fi</td>\n",
       "      <td>I am renting out a nice double room on the top...</td>\n",
       "      <td>ROOM: The room has a twin/double bed (2x90x200...</td>\n",
       "      <td>I am renting out a nice double room on the top...</td>\n",
       "      <td>none</td>\n",
       "      <td>...</td>\n",
       "      <td>t</td>\n",
       "      <td>f</td>\n",
       "      <td>flexible</td>\n",
       "      <td>t</td>\n",
       "      <td>t</td>\n",
       "      <td>2</td>\n",
       "      <td>0</td>\n",
       "      <td>2</td>\n",
       "      <td>0</td>\n",
       "      <td>3.13</td>\n",
       "    </tr>\n",
       "    <tr>\n",
       "      <th>4</th>\n",
       "      <td>5</td>\n",
       "      <td>170651</td>\n",
       "      <td>https://www.airbnb.com/rooms/170651</td>\n",
       "      <td>20190928160308</td>\n",
       "      <td>2019-09-28</td>\n",
       "      <td>Petit Charm Rooftop next to heaven</td>\n",
       "      <td>NaN</td>\n",
       "      <td>Welcome to this beautiful, small, and charming...</td>\n",
       "      <td>Welcome to this beautiful, small, and charming...</td>\n",
       "      <td>none</td>\n",
       "      <td>...</td>\n",
       "      <td>f</td>\n",
       "      <td>f</td>\n",
       "      <td>strict_14_with_grace_period</td>\n",
       "      <td>f</td>\n",
       "      <td>f</td>\n",
       "      <td>1</td>\n",
       "      <td>1</td>\n",
       "      <td>0</td>\n",
       "      <td>0</td>\n",
       "      <td>0.33</td>\n",
       "    </tr>\n",
       "  </tbody>\n",
       "</table>\n",
       "<p>5 rows × 107 columns</p>\n",
       "</div>"
      ],
      "text/plain": [
       "   Unnamed: 0      id                          listing_url       scrape_id  \\\n",
       "0           1  145320  https://www.airbnb.com/rooms/145320  20190928160308   \n",
       "1           2  155220  https://www.airbnb.com/rooms/155220  20190928160308   \n",
       "2           3  155685  https://www.airbnb.com/rooms/155685  20190928160308   \n",
       "3           4  164448  https://www.airbnb.com/rooms/164448  20190928160308   \n",
       "4           5  170651  https://www.airbnb.com/rooms/170651  20190928160308   \n",
       "\n",
       "  last_scraped                                         name  \\\n",
       "0   2019-09-28       In the middle of it all - with a view!   \n",
       "1   2019-09-28                Stockholm, new spacoius villa   \n",
       "2   2019-09-28                   Hornstull with water view!   \n",
       "3   2019-09-28  Double room in central Stockholm with Wi-Fi   \n",
       "4   2019-09-28           Petit Charm Rooftop next to heaven   \n",
       "\n",
       "                                             summary  \\\n",
       "0  Mitt boende passar par, kompisar och ensamäven...   \n",
       "1  Convenient and spacy home full of positive ene...   \n",
       "2  This apartment is located in the center of fun...   \n",
       "3  I am renting out a nice double room on the top...   \n",
       "4                                                NaN   \n",
       "\n",
       "                                               space  \\\n",
       "0  A cozy three room flat with great personality....   \n",
       "1  ABOUT THE HOUSE: Modern villa built in 2010. L...   \n",
       "2  46 sqm apartment in Hornstulls, Södermalm Stoc...   \n",
       "3  ROOM: The room has a twin/double bed (2x90x200...   \n",
       "4  Welcome to this beautiful, small, and charming...   \n",
       "\n",
       "                                         description experiences_offered  ...  \\\n",
       "0  Mitt boende passar par, kompisar och ensamäven...                none  ...   \n",
       "1  ABOUT THE HOUSE: Modern villa built in 2010. L...                none  ...   \n",
       "2  This apartment is located in the center of fun...                none  ...   \n",
       "3  I am renting out a nice double room on the top...                none  ...   \n",
       "4  Welcome to this beautiful, small, and charming...                none  ...   \n",
       "\n",
       "  instant_bookable is_business_travel_ready          cancellation_policy  \\\n",
       "0                t                        f  strict_14_with_grace_period   \n",
       "1                f                        f                     moderate   \n",
       "2                f                        f                     moderate   \n",
       "3                t                        f                     flexible   \n",
       "4                f                        f  strict_14_with_grace_period   \n",
       "\n",
       "  require_guest_profile_picture require_guest_phone_verification  \\\n",
       "0                             f                                f   \n",
       "1                             f                                f   \n",
       "2                             f                                f   \n",
       "3                             t                                t   \n",
       "4                             f                                f   \n",
       "\n",
       "  calculated_host_listings_count calculated_host_listings_count_entire_homes  \\\n",
       "0                              1                                           0   \n",
       "1                              2                                           2   \n",
       "2                              1                                           1   \n",
       "3                              2                                           0   \n",
       "4                              1                                           1   \n",
       "\n",
       "  calculated_host_listings_count_private_rooms  \\\n",
       "0                                            1   \n",
       "1                                            0   \n",
       "2                                            0   \n",
       "3                                            2   \n",
       "4                                            0   \n",
       "\n",
       "  calculated_host_listings_count_shared_rooms reviews_per_month  \n",
       "0                                           0              2.54  \n",
       "1                                           0               NaN  \n",
       "2                                           0              0.22  \n",
       "3                                           0              3.13  \n",
       "4                                           0              0.33  \n",
       "\n",
       "[5 rows x 107 columns]"
      ]
     },
     "execution_count": 40,
     "metadata": {},
     "output_type": "execute_result"
    }
   ],
   "source": [
    "l.head()"
   ]
  },
  {
   "cell_type": "markdown",
   "metadata": {},
   "source": [
    "From the listings we need to:\n",
    "- calculate the average rating for each ID\n",
    "- join the average rating on to the ratings"
   ]
  },
  {
   "cell_type": "code",
   "execution_count": 2,
   "metadata": {},
   "outputs": [],
   "source": [
    "dfl = spark.read.option(\"delimiter\",\",\").option(\"multiline\",True).option(\"header\", True).option(\"escape\",'\"').option(\"inferSchema\",True).csv('listings_sub_10000.csv')"
   ]
  },
  {
   "cell_type": "code",
   "execution_count": 3,
   "metadata": {},
   "outputs": [],
   "source": [
    "dfr = spark.read.option(\"delimiter\",\",\").option(\"multiline\",True).option(\"header\", True).option(\"escape\",'\"').option(\"inferSchema\",True).csv('reviews_sub_10000.csv')"
   ]
  },
  {
   "cell_type": "code",
   "execution_count": 47,
   "metadata": {},
   "outputs": [],
   "source": [
    "mean_scores = dfl.groupBy(\"id\").agg(f.mean(\"review_scores_rating\").alias(\"average_rating\"))"
   ]
  },
  {
   "cell_type": "code",
   "execution_count": 45,
   "metadata": {},
   "outputs": [],
   "source": [
    "spark.conf.set(\"spark.sql.autoBroadcastJoinThreshold\", -1)"
   ]
  },
  {
   "cell_type": "code",
   "execution_count": 48,
   "metadata": {},
   "outputs": [
    {
     "name": "stdout",
     "output_type": "stream",
     "text": [
      "+--------+--------------+\n",
      "|      id|average_rating|\n",
      "+--------+--------------+\n",
      "|  438129|          95.0|\n",
      "| 2466500|          99.0|\n",
      "| 3361594|         100.0|\n",
      "| 4045800|         100.0|\n",
      "| 4892006|          95.0|\n",
      "| 5436847|          90.0|\n",
      "| 6084492|         100.0|\n",
      "| 6765153|          93.0|\n",
      "| 7046029|         100.0|\n",
      "| 7746807|         100.0|\n",
      "| 8374408|          95.0|\n",
      "|11245734|         100.0|\n",
      "|12418867|         100.0|\n",
      "|13048954|          99.0|\n",
      "|13639296|          98.0|\n",
      "|16322150|          95.0|\n",
      "|17601470|          87.0|\n",
      "|17603444|          90.0|\n",
      "|17732905|          98.0|\n",
      "|17742573|          97.0|\n",
      "+--------+--------------+\n",
      "only showing top 20 rows\n",
      "\n"
     ]
    }
   ],
   "source": [
    "mean_scores.show()"
   ]
  },
  {
   "cell_type": "code",
   "execution_count": null,
   "metadata": {},
   "outputs": [],
   "source": [
    "dfr.join(mean_scores, (f.col('Age') == f.col('MaxAge')) & (f.col('Pclass') == f.col('Pclass_')), 'inner')\\\n",
    "    .drop('Pclass_')"
   ]
  },
  {
   "cell_type": "code",
   "execution_count": null,
   "metadata": {},
   "outputs": [],
   "source": []
  },
  {
   "cell_type": "markdown",
   "metadata": {},
   "source": [
    "A simple way to assess how positive each word is:\n",
    "- for every review: tokenize sentence\n",
    "- create a bag of words --> a document-term matrix\n",
    "- create a dictionary, containing every word from the reviews and create an aggregated score on each word. The aggreated word review could be as simple as:\n",
    "    - adding all the average reviews and dividing with the total number of reviews it has been a part of (to account for non-frequent words) \n",
    "    - creating a much simpler score, where bad reviews= -1, middle= 0, high= 1. These simple metrics can then be added up and normalised again. "
   ]
  },
  {
   "cell_type": "code",
   "execution_count": 13,
   "metadata": {},
   "outputs": [
    {
     "name": "stdout",
     "output_type": "stream",
     "text": [
      "== Physical Plan ==\n",
      "*(2) HashAggregate(keys=[country#48], functions=[sum(cast(review_scores_rating#87 as double))])\n",
      "+- Exchange hashpartitioning(country#48, 200)\n",
      "   +- *(1) HashAggregate(keys=[country#48], functions=[partial_sum(cast(review_scores_rating#87 as double))])\n",
      "      +- *(1) Project [country#48, review_scores_rating#87]\n",
      "         +- *(1) Filter (isnotnull(country#48) && (country#48 = Sweden))\n",
      "            +- *(1) FileScan csv [country#48,review_scores_rating#87] Batched: false, Format: CSV, Location: InMemoryFileIndex[file:/home/jovyan/work/Project3/Computational_Tools/listings_sub_10000.csv], PartitionFilters: [], PushedFilters: [IsNotNull(country), EqualTo(country,Sweden)], ReadSchema: struct<country:string,review_scores_rating:string>\n"
     ]
    }
   ],
   "source": [
    "dfl.groupBy('country').agg(f.sum('review_scores_rating')).filter(f.col('country') == 'Sweden').explain()"
   ]
  },
  {
   "cell_type": "code",
   "execution_count": 14,
   "metadata": {
    "scrolled": true
   },
   "outputs": [
    {
     "name": "stdout",
     "output_type": "stream",
     "text": [
      "== Physical Plan ==\n",
      "*(2) HashAggregate(keys=[country#48], functions=[sum(cast(review_scores_rating#87 as double))])\n",
      "+- Exchange hashpartitioning(country#48, 200)\n",
      "   +- *(1) HashAggregate(keys=[country#48], functions=[partial_sum(cast(review_scores_rating#87 as double))])\n",
      "      +- *(1) Project [country#48, review_scores_rating#87]\n",
      "         +- *(1) Filter (isnotnull(country#48) && (country#48 = Sweden))\n",
      "            +- *(1) FileScan csv [country#48,review_scores_rating#87] Batched: false, Format: CSV, Location: InMemoryFileIndex[file:/home/jovyan/work/Project3/Computational_Tools/listings_sub_10000.csv], PartitionFilters: [], PushedFilters: [IsNotNull(country), EqualTo(country,Sweden)], ReadSchema: struct<country:string,review_scores_rating:string>\n"
     ]
    }
   ],
   "source": [
    "dfl.filter(f.col('country') == 'Sweden').groupBy('country').agg(f.sum('review_scores_rating')).explain()"
   ]
  },
  {
   "cell_type": "code",
   "execution_count": null,
   "metadata": {},
   "outputs": [],
   "source": []
  }
 ],
 "metadata": {
  "kernelspec": {
   "display_name": "Python 3",
   "language": "python",
   "name": "python3"
  },
  "language_info": {
   "codemirror_mode": {
    "name": "ipython",
    "version": 3
   },
   "file_extension": ".py",
   "mimetype": "text/x-python",
   "name": "python",
   "nbconvert_exporter": "python",
   "pygments_lexer": "ipython3",
   "version": "3.7.3"
  }
 },
 "nbformat": 4,
 "nbformat_minor": 2
}
