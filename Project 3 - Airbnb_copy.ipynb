{
 "cells": [
  {
   "cell_type": "markdown",
   "metadata": {},
   "source": [
    "# Project 3: Airbnb\n",
    "**This is the third of three mandatory projects to be handed in as part of the assessment for the course 02807 Computational Tools for Data Science at Technical University of Denmark, autumn 2019.**\n",
    "\n",
    "#### Practical info\n",
    "- **The project is to be done in groups of at most 3 students**\n",
    "- **Each group has to hand in _one_ Jupyter notebook (this notebook) with their solution**\n",
    "- **The hand-in of the notebook is due 2019-12-05, 23:59 on DTU Inside**\n",
    "\n",
    "#### Your solution\n",
    "- **Your solution should be in Python/PySpark**\n",
    "- **For each question you may use as many cells for your solution as you like**\n",
    "- **You should not remove the problem statements**\n",
    "- **Your notebook should be runnable, i.e., clicking [>>] in Jupyter should generate the result that you want to be assessed**\n",
    "- **You are not expected to use machine learning to solve any of the exercises**"
   ]
  },
  {
   "cell_type": "markdown",
   "metadata": {},
   "source": [
    "# Introduction\n",
    "[Airbnb](http://airbnb.com) is an online marketplace for arranging or offering lodgings. In this project you will use Spark to analyze data obtained from the Airbnb website. The purpose of the analysis is to extract information about trends and patterns from the data.\n",
    "\n",
    "The project has two parts.\n",
    "\n",
    "### Part 1: Loading, describing and preparing the data\n",
    "There's quite a lot of data. Make sure that you can load and correctly parse the data, and that you understand what the dataset contains. You should also prepare the data for the analysis in part two. This means cleaning it and staging it so that subsequent queries are fast.\n",
    "\n",
    "### Par 2: Analysis\n",
    "In this part your goal is to learn about trends and usage patterns from the data. You should give solutions to the tasks defined in this notebook, and you should use Spark to do the data processing. You may use other libraries like for instance Pandas and matplotlib for visualisation.\n",
    "\n",
    "## Guidelines\n",
    "- Processing data should be done using Spark. Once data has been reduced to aggregate form, you may use collect to extract it into Python for visualisation.\n",
    "- Your solutions will be evaluated by correctness, code quality and interpretability of the output. This means that you have to write clean and efficient Spark code that will generate sensible execution plans, and that the tables and visualisations that you produce are meaningful and easy to read.\n",
    "- You may add more cells for your solutions, but you should not modify the notebook otherwise."
   ]
  },
  {
   "cell_type": "markdown",
   "metadata": {},
   "source": [
    "### Create Spark session and define imports"
   ]
  },
  {
   "cell_type": "code",
   "execution_count": 1,
   "metadata": {},
   "outputs": [],
   "source": [
    "from pyspark.sql import *\n",
    "from pyspark.sql import functions as f\n",
    "from pyspark.sql.types import *\n",
    "\n",
    "spark = SparkSession.builder.appName(\"SparkIntro\").getOrCreate()"
   ]
  },
  {
   "cell_type": "markdown",
   "metadata": {},
   "source": [
    "# Part 1: Loading, describing and preparing the data\n",
    "The data comes in two files. Start by downloading the files and putting them in your `data/` folder.\n",
    "\n",
    "- [Listings](https://files.dtu.dk/u/siPzAasj8w2gI_ME/listings.csv?l) (5 GB)\n",
    "- [Reviews](https://files.dtu.dk/u/k3oaPYp6GjKBeho4/reviews.csv?l) (9.5 GB)"
   ]
  },
  {
   "cell_type": "markdown",
   "metadata": {},
   "source": [
    "### Load the data\n",
    "The data has multiline rows (rows that span multiple lines in the file). To correctly parse these you should use the `multiline` option and set the `escape` character to be `\"`."
   ]
  },
  {
   "cell_type": "markdown",
   "metadata": {},
   "source": [
    "##### Slicing the data"
   ]
  },
  {
   "cell_type": "code",
   "execution_count": 4,
   "metadata": {},
   "outputs": [],
   "source": [
    "import itertools\n",
    "import csv\n",
    "\n",
    "entries = []\n",
    "with open('listings.csv', 'r') as f:\n",
    "    mycsv = csv.reader(f)\n",
    "    for row in itertools.islice(mycsv, 1000):\n",
    "        entries.append(row)"
   ]
  },
  {
   "cell_type": "code",
   "execution_count": 7,
   "metadata": {},
   "outputs": [],
   "source": [
    "import pandas as pd"
   ]
  },
  {
   "cell_type": "code",
   "execution_count": 13,
   "metadata": {},
   "outputs": [],
   "source": [
    "columns_ = entries[0]"
   ]
  },
  {
   "cell_type": "code",
   "execution_count": 19,
   "metadata": {},
   "outputs": [],
   "source": [
    "df = pd.DataFrame(entries,columns=columns_)"
   ]
  },
  {
   "cell_type": "code",
   "execution_count": 21,
   "metadata": {},
   "outputs": [],
   "source": [
    "df = df.iloc[1:-1,:]"
   ]
  },
  {
   "cell_type": "code",
   "execution_count": 22,
   "metadata": {},
   "outputs": [
    {
     "data": {
      "text/html": [
       "<div>\n",
       "<style scoped>\n",
       "    .dataframe tbody tr th:only-of-type {\n",
       "        vertical-align: middle;\n",
       "    }\n",
       "\n",
       "    .dataframe tbody tr th {\n",
       "        vertical-align: top;\n",
       "    }\n",
       "\n",
       "    .dataframe thead th {\n",
       "        text-align: right;\n",
       "    }\n",
       "</style>\n",
       "<table border=\"1\" class=\"dataframe\">\n",
       "  <thead>\n",
       "    <tr style=\"text-align: right;\">\n",
       "      <th></th>\n",
       "      <th>id</th>\n",
       "      <th>listing_url</th>\n",
       "      <th>scrape_id</th>\n",
       "      <th>last_scraped</th>\n",
       "      <th>name</th>\n",
       "      <th>summary</th>\n",
       "      <th>space</th>\n",
       "      <th>description</th>\n",
       "      <th>experiences_offered</th>\n",
       "      <th>neighborhood_overview</th>\n",
       "      <th>...</th>\n",
       "      <th>instant_bookable</th>\n",
       "      <th>is_business_travel_ready</th>\n",
       "      <th>cancellation_policy</th>\n",
       "      <th>require_guest_profile_picture</th>\n",
       "      <th>require_guest_phone_verification</th>\n",
       "      <th>calculated_host_listings_count</th>\n",
       "      <th>calculated_host_listings_count_entire_homes</th>\n",
       "      <th>calculated_host_listings_count_private_rooms</th>\n",
       "      <th>calculated_host_listings_count_shared_rooms</th>\n",
       "      <th>reviews_per_month</th>\n",
       "    </tr>\n",
       "  </thead>\n",
       "  <tbody>\n",
       "    <tr>\n",
       "      <th>1</th>\n",
       "      <td>145320</td>\n",
       "      <td>https://www.airbnb.com/rooms/145320</td>\n",
       "      <td>20190928160308</td>\n",
       "      <td>2019-09-28</td>\n",
       "      <td>In the middle of it all - with a view!</td>\n",
       "      <td>Mitt boende passar par, kompisar och ensamäven...</td>\n",
       "      <td>A cozy three room flat with great personality....</td>\n",
       "      <td>Mitt boende passar par, kompisar och ensamäven...</td>\n",
       "      <td>none</td>\n",
       "      <td>The flat is in the area of Södermalm, the youn...</td>\n",
       "      <td>...</td>\n",
       "      <td>t</td>\n",
       "      <td>f</td>\n",
       "      <td>strict_14_with_grace_period</td>\n",
       "      <td>f</td>\n",
       "      <td>f</td>\n",
       "      <td>1</td>\n",
       "      <td>0</td>\n",
       "      <td>1</td>\n",
       "      <td>0</td>\n",
       "      <td>2.54</td>\n",
       "    </tr>\n",
       "    <tr>\n",
       "      <th>2</th>\n",
       "      <td>155220</td>\n",
       "      <td>https://www.airbnb.com/rooms/155220</td>\n",
       "      <td>20190928160308</td>\n",
       "      <td>2019-09-28</td>\n",
       "      <td>Stockholm, new spacoius villa</td>\n",
       "      <td>Convenient and spacy home full of positive ene...</td>\n",
       "      <td>ABOUT THE HOUSE: Modern villa built in 2010. L...</td>\n",
       "      <td>ABOUT THE HOUSE: Modern villa built in 2010. L...</td>\n",
       "      <td>none</td>\n",
       "      <td>Close to nature and easy access to citylife.</td>\n",
       "      <td>...</td>\n",
       "      <td>f</td>\n",
       "      <td>f</td>\n",
       "      <td>moderate</td>\n",
       "      <td>f</td>\n",
       "      <td>f</td>\n",
       "      <td>2</td>\n",
       "      <td>2</td>\n",
       "      <td>0</td>\n",
       "      <td>0</td>\n",
       "      <td></td>\n",
       "    </tr>\n",
       "    <tr>\n",
       "      <th>3</th>\n",
       "      <td>155685</td>\n",
       "      <td>https://www.airbnb.com/rooms/155685</td>\n",
       "      <td>20190928160308</td>\n",
       "      <td>2019-09-28</td>\n",
       "      <td>Hornstull with water view!</td>\n",
       "      <td>This apartment is located in the center of fun...</td>\n",
       "      <td>46 sqm apartment in Hornstulls, Södermalm Stoc...</td>\n",
       "      <td>This apartment is located in the center of fun...</td>\n",
       "      <td>none</td>\n",
       "      <td>There is a funky vibe here!</td>\n",
       "      <td>...</td>\n",
       "      <td>f</td>\n",
       "      <td>f</td>\n",
       "      <td>moderate</td>\n",
       "      <td>f</td>\n",
       "      <td>f</td>\n",
       "      <td>1</td>\n",
       "      <td>1</td>\n",
       "      <td>0</td>\n",
       "      <td>0</td>\n",
       "      <td>0.22</td>\n",
       "    </tr>\n",
       "    <tr>\n",
       "      <th>4</th>\n",
       "      <td>164448</td>\n",
       "      <td>https://www.airbnb.com/rooms/164448</td>\n",
       "      <td>20190928160308</td>\n",
       "      <td>2019-09-28</td>\n",
       "      <td>Double room in central Stockholm with Wi-Fi</td>\n",
       "      <td>I am renting out a nice double room on the top...</td>\n",
       "      <td>ROOM: The room has a twin/double bed (2x90x200...</td>\n",
       "      <td>I am renting out a nice double room on the top...</td>\n",
       "      <td>none</td>\n",
       "      <td></td>\n",
       "      <td>...</td>\n",
       "      <td>t</td>\n",
       "      <td>f</td>\n",
       "      <td>flexible</td>\n",
       "      <td>t</td>\n",
       "      <td>t</td>\n",
       "      <td>2</td>\n",
       "      <td>0</td>\n",
       "      <td>2</td>\n",
       "      <td>0</td>\n",
       "      <td>3.13</td>\n",
       "    </tr>\n",
       "    <tr>\n",
       "      <th>5</th>\n",
       "      <td>170651</td>\n",
       "      <td>https://www.airbnb.com/rooms/170651</td>\n",
       "      <td>20190928160308</td>\n",
       "      <td>2019-09-28</td>\n",
       "      <td>Petit Charm Rooftop next to heaven</td>\n",
       "      <td></td>\n",
       "      <td>Welcome to this beautiful, small, and charming...</td>\n",
       "      <td>Welcome to this beautiful, small, and charming...</td>\n",
       "      <td>none</td>\n",
       "      <td></td>\n",
       "      <td>...</td>\n",
       "      <td>f</td>\n",
       "      <td>f</td>\n",
       "      <td>strict_14_with_grace_period</td>\n",
       "      <td>f</td>\n",
       "      <td>f</td>\n",
       "      <td>1</td>\n",
       "      <td>1</td>\n",
       "      <td>0</td>\n",
       "      <td>0</td>\n",
       "      <td>0.33</td>\n",
       "    </tr>\n",
       "  </tbody>\n",
       "</table>\n",
       "<p>5 rows × 106 columns</p>\n",
       "</div>"
      ],
      "text/plain": [
       "       id                          listing_url       scrape_id last_scraped  \\\n",
       "1  145320  https://www.airbnb.com/rooms/145320  20190928160308   2019-09-28   \n",
       "2  155220  https://www.airbnb.com/rooms/155220  20190928160308   2019-09-28   \n",
       "3  155685  https://www.airbnb.com/rooms/155685  20190928160308   2019-09-28   \n",
       "4  164448  https://www.airbnb.com/rooms/164448  20190928160308   2019-09-28   \n",
       "5  170651  https://www.airbnb.com/rooms/170651  20190928160308   2019-09-28   \n",
       "\n",
       "                                          name  \\\n",
       "1       In the middle of it all - with a view!   \n",
       "2                Stockholm, new spacoius villa   \n",
       "3                   Hornstull with water view!   \n",
       "4  Double room in central Stockholm with Wi-Fi   \n",
       "5           Petit Charm Rooftop next to heaven   \n",
       "\n",
       "                                             summary  \\\n",
       "1  Mitt boende passar par, kompisar och ensamäven...   \n",
       "2  Convenient and spacy home full of positive ene...   \n",
       "3  This apartment is located in the center of fun...   \n",
       "4  I am renting out a nice double room on the top...   \n",
       "5                                                      \n",
       "\n",
       "                                               space  \\\n",
       "1  A cozy three room flat with great personality....   \n",
       "2  ABOUT THE HOUSE: Modern villa built in 2010. L...   \n",
       "3  46 sqm apartment in Hornstulls, Södermalm Stoc...   \n",
       "4  ROOM: The room has a twin/double bed (2x90x200...   \n",
       "5  Welcome to this beautiful, small, and charming...   \n",
       "\n",
       "                                         description experiences_offered  \\\n",
       "1  Mitt boende passar par, kompisar och ensamäven...                none   \n",
       "2  ABOUT THE HOUSE: Modern villa built in 2010. L...                none   \n",
       "3  This apartment is located in the center of fun...                none   \n",
       "4  I am renting out a nice double room on the top...                none   \n",
       "5  Welcome to this beautiful, small, and charming...                none   \n",
       "\n",
       "                               neighborhood_overview  ... instant_bookable  \\\n",
       "1  The flat is in the area of Södermalm, the youn...  ...                t   \n",
       "2       Close to nature and easy access to citylife.  ...                f   \n",
       "3                        There is a funky vibe here!  ...                f   \n",
       "4                                                     ...                t   \n",
       "5                                                     ...                f   \n",
       "\n",
       "  is_business_travel_ready          cancellation_policy  \\\n",
       "1                        f  strict_14_with_grace_period   \n",
       "2                        f                     moderate   \n",
       "3                        f                     moderate   \n",
       "4                        f                     flexible   \n",
       "5                        f  strict_14_with_grace_period   \n",
       "\n",
       "  require_guest_profile_picture require_guest_phone_verification  \\\n",
       "1                             f                                f   \n",
       "2                             f                                f   \n",
       "3                             f                                f   \n",
       "4                             t                                t   \n",
       "5                             f                                f   \n",
       "\n",
       "  calculated_host_listings_count calculated_host_listings_count_entire_homes  \\\n",
       "1                              1                                           0   \n",
       "2                              2                                           2   \n",
       "3                              1                                           1   \n",
       "4                              2                                           0   \n",
       "5                              1                                           1   \n",
       "\n",
       "  calculated_host_listings_count_private_rooms  \\\n",
       "1                                            1   \n",
       "2                                            0   \n",
       "3                                            0   \n",
       "4                                            2   \n",
       "5                                            0   \n",
       "\n",
       "  calculated_host_listings_count_shared_rooms reviews_per_month  \n",
       "1                                           0              2.54  \n",
       "2                                           0                    \n",
       "3                                           0              0.22  \n",
       "4                                           0              3.13  \n",
       "5                                           0              0.33  \n",
       "\n",
       "[5 rows x 106 columns]"
      ]
     },
     "execution_count": 22,
     "metadata": {},
     "output_type": "execute_result"
    }
   ],
   "source": [
    "df.head()"
   ]
  },
  {
   "cell_type": "code",
   "execution_count": 30,
   "metadata": {},
   "outputs": [],
   "source": [
    "#df.to_csv(\"listings_sub.csv\")"
   ]
  },
  {
   "cell_type": "code",
   "execution_count": 24,
   "metadata": {},
   "outputs": [],
   "source": [
    "df = spark.read.option(\"delimiter\",\",\").option(\"multiline\",True).option(\"header\", True).option(\"escape\",'\"').option(\"inferSchema\",True).csv('listings_sub.csv')\n"
   ]
  },
  {
   "cell_type": "code",
   "execution_count": 25,
   "metadata": {},
   "outputs": [
    {
     "name": "stdout",
     "output_type": "stream",
     "text": [
      "+---+------+--------------------+--------------+-------------------+--------------------+--------------------+--------------------+--------------------+-------------------+---------------------+--------------------+--------------------+--------------------+--------------------+--------------------+-------------+----------+--------------------+--------------+-------+--------------------+---------+-------------------+--------------------+--------------------+------------------+------------------+--------------------+-----------------+--------------------+--------------------+------------------+-------------------+-------------------------+--------------------+--------------------+----------------------+--------------------+-------------+----------------------+----------------------------+---------+----------------+-------+---------+-----------------+------------+-------+--------+---------+-----------------+-----------------+---------------+------------+---------+--------+----+--------+--------------------+-----------+---------+------------+-------------+----------------+------------+---------------+------------+--------------+--------------+----------------------+----------------------+----------------------+----------------------+----------------------+----------------------+----------------+----------------+---------------+---------------+---------------+----------------+---------------------+-----------------+---------------------+-------------------+-------------------+--------------------+----------------------+-------------------------+---------------------+---------------------------+----------------------+-------------------+----------------+-------+------------------+----------------+------------------------+--------------------+-----------------------------+--------------------------------+------------------------------+-------------------------------------------+--------------------------------------------+-------------------------------------------+-----------------+\n",
      "|_c0|    id|         listing_url|     scrape_id|       last_scraped|                name|             summary|               space|         description|experiences_offered|neighborhood_overview|               notes|             transit|              access|         interaction|         house_rules|thumbnail_url|medium_url|         picture_url|xl_picture_url|host_id|            host_url|host_name|         host_since|       host_location|          host_about|host_response_time|host_response_rate|host_acceptance_rate|host_is_superhost|  host_thumbnail_url|    host_picture_url|host_neighbourhood|host_listings_count|host_total_listings_count|  host_verifications|host_has_profile_pic|host_identity_verified|              street|neighbourhood|neighbourhood_cleansed|neighbourhood_group_cleansed|     city|           state|zipcode|   market|   smart_location|country_code|country|latitude|longitude|is_location_exact|    property_type|      room_type|accommodates|bathrooms|bedrooms|beds|bed_type|           amenities|square_feet|    price|weekly_price|monthly_price|security_deposit|cleaning_fee|guests_included|extra_people|minimum_nights|maximum_nights|minimum_minimum_nights|maximum_minimum_nights|minimum_maximum_nights|maximum_maximum_nights|minimum_nights_avg_ntm|maximum_nights_avg_ntm|calendar_updated|has_availability|availability_30|availability_60|availability_90|availability_365|calendar_last_scraped|number_of_reviews|number_of_reviews_ltm|       first_review|        last_review|review_scores_rating|review_scores_accuracy|review_scores_cleanliness|review_scores_checkin|review_scores_communication|review_scores_location|review_scores_value|requires_license|license|jurisdiction_names|instant_bookable|is_business_travel_ready| cancellation_policy|require_guest_profile_picture|require_guest_phone_verification|calculated_host_listings_count|calculated_host_listings_count_entire_homes|calculated_host_listings_count_private_rooms|calculated_host_listings_count_shared_rooms|reviews_per_month|\n",
      "+---+------+--------------------+--------------+-------------------+--------------------+--------------------+--------------------+--------------------+-------------------+---------------------+--------------------+--------------------+--------------------+--------------------+--------------------+-------------+----------+--------------------+--------------+-------+--------------------+---------+-------------------+--------------------+--------------------+------------------+------------------+--------------------+-----------------+--------------------+--------------------+------------------+-------------------+-------------------------+--------------------+--------------------+----------------------+--------------------+-------------+----------------------+----------------------------+---------+----------------+-------+---------+-----------------+------------+-------+--------+---------+-----------------+-----------------+---------------+------------+---------+--------+----+--------+--------------------+-----------+---------+------------+-------------+----------------+------------+---------------+------------+--------------+--------------+----------------------+----------------------+----------------------+----------------------+----------------------+----------------------+----------------+----------------+---------------+---------------+---------------+----------------+---------------------+-----------------+---------------------+-------------------+-------------------+--------------------+----------------------+-------------------------+---------------------+---------------------------+----------------------+-------------------+----------------+-------+------------------+----------------+------------------------+--------------------+-----------------------------+--------------------------------+------------------------------+-------------------------------------------+--------------------------------------------+-------------------------------------------+-----------------+\n",
      "|  1|145320|https://www.airbn...|20190928160308|2019-09-28 00:00:00|In the middle of ...|Mitt boende passa...|A cozy three room...|Mitt boende passa...|               none| The flat is in th...|                null|My flat is close ...|You can stay in e...|Just ask me every...|No smoking inside...|         null|      null|https://a0.muscac...|          null| 703851|https://www.airbn...|      Kim|2011-06-15 00:00:00|Stockholm, Stockh...|Hi, I'm Kim, a de...|               N/A|               N/A|                 N/A|                t|https://a0.muscac...|https://a0.muscac...|              null|                  1|                        1|['email', 'phone'...|                   t|                     t|Stockholm, Stockh...|    Södermalm|            Södermalms|                        null|Stockholm|  Stockholms län| 118 53|Stockholm|Stockholm, Sweden|          SE| Sweden|59.31364| 18.05256|                f|        Apartment|   Private room|           2|      1.0|       1|   2|Real Bed|{TV,\"Cable TV\",Wi...|       null|$1,272.00|        null|         null|            null|     $417.00|              2|       $0.00|             2|          1125|                     2|                     2|                  1125|                  1125|                   2.0|                1125.0|    3 months ago|               t|              0|              0|             26|              26|  2019-09-28 00:00:00|               72|                   27|2017-05-30 00:00:00|2019-06-25 00:00:00|                  97|                    10|                       10|                   10|                         10|                    10|                 10|               f|   null|              null|               t|                       f|strict_14_with_gr...|                            f|                               f|                             1|                                          0|                                           1|                                          0|             2.54|\n",
      "|  2|155220|https://www.airbn...|20190928160308|2019-09-28 00:00:00|Stockholm, new sp...|Convenient and sp...|ABOUT THE HOUSE: ...|ABOUT THE HOUSE: ...|               none| Close to nature a...|Bikes to borrow a...|Yes regular busse...|Everything in the...|I will make you f...|          No smoking|         null|      null|https://a0.muscac...|          null| 746396|https://www.airbn...|Madeleine|2011-06-26 00:00:00|Stockholm, Stockh...|I work with human...|within a few hours|               63%|                 N/A|                f|https://a0.muscac...|https://a0.muscac...|              null|                  2|                        2|['email', 'phone'...|                   t|                     f|Stockholm, Stockh...|    Skarpnäck|            Skarpnäcks|                        null|Stockholm|Stockholm County|   null|Stockholm|Stockholm, Sweden|          SE| Sweden|59.24667| 18.17799|                f|            House|Entire home/apt|           3|      1.0|       2|   3|Real Bed|{TV,\"Cable TV\",In...|          0|$1,203.00|   $4,000.00|   $15,000.00|       $3,000.00|   $1,000.00|              3|     $500.00|             3|           730|                     3|                     3|                   730|                   730|                   3.0|                 730.0|    8 months ago|               t|              0|              0|              0|               0|  2019-09-28 00:00:00|                0|                    0|               null|               null|                null|                  null|                     null|                 null|                       null|                  null|               null|               f|   null|              null|               f|                       f|            moderate|                            f|                               f|                             2|                                          2|                                           0|                                          0|             null|\n",
      "|  3|155685|https://www.airbn...|20190928160308|2019-09-28 00:00:00|Hornstull with wa...|This apartment is...|46 sqm apartment ...|This apartment is...|               none| There is a funky ...|                null|Very close to pub...|Everything in the...|I meet in most ar...|•  The person tha...|         null|      null|https://a0.muscac...|          null| 748592|https://www.airbn...|   Robert|2011-06-27 00:00:00|Stockholm, Stockh...|Robert work with ...|               N/A|               N/A|                 N/A|                f|https://a0.muscac...|https://a0.muscac...|              null|                  1|                        1|['email', 'phone'...|                   t|                     f|Stockholm, Stockh...|    Södermalm|            Södermalms|                        null|Stockholm|Stockholm County|  11739|Stockholm|Stockholm, Sweden|          SE| Sweden|59.31535| 18.03277|                t|        Apartment|Entire home/apt|           2|      1.0|       2|   2|Real Bed|{TV,Wifi,Kitchen,...|       null|$3,209.00|        null|   $17,111.00|            null|        null|              1|       $0.00|             4|           365|                     4|                     4|                   365|                   365|                   4.0|                 365.0|    4 months ago|               t|              0|              0|              0|               0|  2019-09-28 00:00:00|               22|                    0|2011-08-23 00:00:00|2015-12-01 00:00:00|                  94|                     9|                       10|                   10|                         10|                     9|                  9|               f|   null|              null|               f|                       f|            moderate|                            f|                               f|                             1|                                          1|                                           0|                                          0|             0.22|\n",
      "|  4|164448|https://www.airbn...|20190928160308|2019-09-28 00:00:00|Double room in ce...|I am renting out ...|ROOM: The room ha...|I am renting out ...|               none|                 null|                null|                null|                null|                null|All the other fac...|         null|      null|https://a0.muscac...|          null| 784312|https://www.airbn...|       Li|2011-07-06 00:00:00|Stockholm, Stockh...|I am a recently r...|    within an hour|              100%|                 N/A|                t|https://a0.muscac...|https://a0.muscac...|         Södermalm|                  2|                        2|['email', 'phone'...|                   t|                     t|Stockholm, Stockh...|    Södermalm|            Södermalms|                        null|Stockholm|Stockholm County|  11864|Stockholm|Stockholm, Sweden|          SE| Sweden|59.31268| 18.06258|                t|        Apartment|   Private room|           2|      1.0|       1|   2|Real Bed|{TV,Internet,Wifi...|       null|  $597.00|   $4,000.00|   $12,000.00|            null|        null|              1|       $0.00|             3|           300|                     3|                     3|                   300|                   300|                   3.0|                 300.0|     2 weeks ago|               t|             15|             37|             59|             140|  2019-09-28 00:00:00|              311|                   55|2011-07-30 00:00:00|2019-09-26 00:00:00|                  97|                    10|                       10|                   10|                         10|                    10|                 10|               f|   null|              null|               t|                       f|            flexible|                            t|                               t|                             2|                                          0|                                           2|                                          0|             3.13|\n",
      "|  5|170651|https://www.airbn...|20190928160308|2019-09-28 00:00:00|Petit Charm Rooft...|                null|Welcome to this b...|Welcome to this b...|               none|                 null|                null|                null|                null|                null|I like to have th...|         null|      null|https://a0.muscac...|          null| 814021|https://www.airbn...|    Marie|2011-07-13 00:00:00|Stockholm, Stockh...|Im a happy person...|within a few hours|              100%|                 N/A|                f|https://a0.muscac...|https://a0.muscac...|         Södermalm|                  1|                        1|['email', 'phone'...|                   t|                     f|Stockholm, Stockh...|    Södermalm|            Södermalms|                        null|Stockholm|Stockholm County|  11737|Stockholm|Stockholm, Sweden|          SE| Sweden|59.31568| 18.03138|                t|        Apartment|Entire home/apt|           4|      1.0|       1|   2|Real Bed|{Internet,Wifi,Ki...|       null|  $734.00|        null|   $18,181.00|       $2,139.00|     $321.00|              2|     $321.00|             3|            30|                     3|                     3|                    30|                    30|                   3.0|                  30.0|     6 weeks ago|               t|             13|             38|             58|             216|  2019-09-28 00:00:00|               33|                    7|2011-08-14 00:00:00|2019-09-01 00:00:00|                  93|                    10|                        9|                   10|                         10|                    10|                  9|               f|   null|              null|               f|                       f|strict_14_with_gr...|                            f|                               f|                             1|                                          1|                                           0|                                          0|             0.33|\n",
      "|  6|206221|https://www.airbn...|20190928160308|2019-09-28 00:00:00|Doubleroom at Söd...|                null|The region is sit...|The region is sit...|               none|                 null|                null|                null|                null|                null|                null|         null|      null|https://a0.muscac...|          null|1022374|https://www.airbn...|Elisabeth|2011-08-26 00:00:00|              Sweden|I'm a positive pe...|      within a day|               50%|                 N/A|                f|https://a0.muscac...|https://a0.muscac...|              null|                  1|                        1|['email', 'phone'...|                   t|                     f|Stockholm, Stockh...|    Södermalm|            Södermalms|                        null|Stockholm|Stockholm County|  11639|Stockholm|Stockholm, Sweden|          SE| Sweden|59.31226| 18.07942|                t|Bed and breakfast|    Shared room|           2|      1.0|       1|   2|Real Bed|{Wifi,Breakfast,E...|         96|  $665.00|        null|         null|            null|        null|              2|     $200.00|             3|            14|                     3|                     3|                    14|                    14|                   3.0|                  14.0|     2 weeks ago|               t|              2|             25|             55|             330|  2019-09-28 00:00:00|               78|                   12|2011-11-30 00:00:00|2019-08-13 00:00:00|                  98|                    10|                       10|                   10|                         10|                    10|                 10|               f|   null|              null|               f|                       f|            flexible|                            f|                               f|                             1|                                          0|                                           0|                                          1|             0.82|\n",
      "|  7|220233|https://www.airbn...|20190928160308|2019-09-28 00:00:00|Central apartment...|My apartment is l...|38 sqm apartment ...|My apartment is l...|               none| The apartment is ...|The apartment win...|Subway station (t...|As a guest you wi...|I'm happy to prov...|I trust my guests...|         null|      null|https://a0.muscac...|          null|1137208|https://www.airbn...|  Martina|2011-09-10 00:00:00|Stockholm, Stockh...|Want to enjoy the...|               N/A|               N/A|                 N/A|                f|https://a0.muscac...|https://a0.muscac...|          Norrmalm|                  1|                        1|['email', 'phone'...|                   t|                     f|Stockholm, Stockh...|     Norrmalm|             Norrmalms|                        null|Stockholm|  Stockholms län|  11320|Stockholm|Stockholm, Sweden|          SE| Sweden|59.33948| 18.03551|                t|        Apartment|Entire home/apt|           2|      1.0|       1|   2|Real Bed|{TV,Internet,Wifi...|       null|  $890.00|        null|   $10,500.00|            null|        null|              1|       $0.00|             3|           365|                     3|                     3|                   365|                   365|                   3.0|                 365.0|   33 months ago|               t|              0|              0|              0|               0|  2019-09-28 00:00:00|                0|                    0|               null|               null|                null|                  null|                     null|                 null|                       null|                  null|               null|               f|   null|              null|               f|                       f|            moderate|                            f|                               f|                             1|                                          1|                                           0|                                          0|             null|\n",
      "|  8|220851|https://www.airbn...|20190928160308|2019-09-28 00:00:00|One room in appar...|            Welcome!|Welcome! One big ...|Welcome! Welcome!...|               none| Many restaurangs ...|No smoking No par...|          3 min walk|   Kitchen,bathroom.|Sometimes i am at...|no smoking in the...|         null|      null|https://a0.muscac...|          null| 412283|https://www.airbn...|  Fredric|2011-02-27 00:00:00|Stockholm, Stockh...|I am into arts yo...|within a few hours|               83%|                 N/A|                f|https://a0.muscac...|https://a0.muscac...|       Kungsholmen|                  1|                        1|['email', 'phone'...|                   t|                     f|Stockholm, Stockh...|  Kungsholmen|          Kungsholmens|                        null|Stockholm|Stockholm County|  11341|Stockholm|Stockholm, Sweden|          SE| Sweden|59.33376| 18.03816|                t|        Apartment|   Private room|           1|      1.0|       1|   1|Real Bed|{Wifi,Kitchen,Ele...|       null|  $597.00|   $4,000.00|   $15,000.00|            null|     $300.00|              1|       $0.00|             3|            20|                     3|                     3|                    20|                    20|                   3.0|                  20.0|     6 weeks ago|               t|             19|             49|             79|             354|  2019-09-28 00:00:00|               45|                   10|2011-09-29 00:00:00|2019-08-23 00:00:00|                  93|                     9|                        9|                   10|                         10|                    10|                  9|               f|   null|              null|               f|                       f|            flexible|                            f|                               f|                             1|                                          0|                                           1|                                          0|             0.46|\n",
      "|  9|242188|https://www.airbn...|20190928160308|2019-09-28 00:00:00|Single room in ce...|I am renting out ...|ROOM:  The room h...|I am renting out ...|               none|                 null|                null|                null|                null|                null|A modern five bed...|         null|      null|https://a0.muscac...|          null| 784312|https://www.airbn...|       Li|2011-07-06 00:00:00|Stockholm, Stockh...|I am a recently r...|    within an hour|              100%|                 N/A|                t|https://a0.muscac...|https://a0.muscac...|         Södermalm|                  2|                        2|['email', 'phone'...|                   t|                     t|Stockholm, Stockh...|    Södermalm|            Södermalms|                        null|Stockholm|Stockholm County|  11864|Stockholm|Stockholm, Sweden|          SE| Sweden|59.31347| 18.06106|                t|        Apartment|   Private room|           1|      1.0|       1|   1|Real Bed|{TV,Internet,Wifi...|       null|  $558.00|   $3,000.00|    $8,500.00|            null|        null|              1|       $0.00|             2|           300|                     2|                     2|                   300|                   300|                   2.0|                 300.0|     3 weeks ago|               t|             13|             35|             54|             139|  2019-09-28 00:00:00|              296|                   51|2012-02-13 00:00:00|2019-09-26 00:00:00|                  97|                    10|                       10|                   10|                         10|                    10|                 10|               f|   null|              null|               t|                       f|            flexible|                            t|                               t|                             2|                                          0|                                           2|                                          0|             3.19|\n",
      "| 10|259025|https://www.airbn...|20190928160308|2019-09-28 00:00:00|sufficient large ...|                null|If I describe how...|If I describe how...|               none|                 null|Kista mall, Stock...|Rinkeby Metro Sta...|When you are four...|                null|Do not allow anim...|         null|      null|https://a0.muscac...|          null|1361093|https://www.airbn...|      Ali|2011-11-02 00:00:00|Stockholm, Stockh...|Come and enjoy St...|    within an hour|              100%|                 N/A|                f|https://a0.muscac...|https://a0.muscac...|              null|                  3|                        3|['email', 'phone'...|                   t|                     t|Stockholm, Stockh...|Rinkeby-Kista|        Rinkeby-Tensta|                        null|Stockholm|Stockholm County|  16371|Stockholm|Stockholm, Sweden|          SE| Sweden|59.38682| 17.92276|                t|        Townhouse|   Private room|           1|      1.0|       1|   1|Real Bed|{TV,\"Cable TV\",In...|          0|  $196.00|        null|    $8,657.00|            null|     $200.00|              1|     $100.00|            60|          1000|                    60|                    60|                  1000|                  1000|                  60.0|                1000.0|   10 months ago|               t|             30|             60|             90|             365|  2019-09-28 00:00:00|               60|                    0|2011-11-23 00:00:00|2015-11-08 00:00:00|                  89|                     9|                       10|                    9|                          9|                     7|                  9|               f|   null|              null|               f|                       f|strict_14_with_gr...|                            t|                               t|                             2|                                          0|                                           2|                                          0|             0.63|\n",
      "| 11|259722|https://www.airbn...|20190928160308|2019-09-28 00:00:00|Near shopping-IT ...|It's a nice and c...|It's a nice and c...|It's a nice and c...|               none|                 null|It's good if you ...|                null|You have your own...|I'm not at home s...|I want a copy of ...|         null|      null|https://a0.muscac...|          null|1261494|https://www.airbn...|  Marcelo|2011-10-07 00:00:00|Stockholm, Stockh...|Hi! \n",
      "I am an IT-e...|within a few hours|              100%|                 N/A|                f|https://a0.muscac...|https://a0.muscac...|              null|                  1|                        1|['email', 'phone'...|                   t|                     t|Stockholm, Stockh...|Rinkeby-Kista|        Rinkeby-Tensta|                        null|Stockholm|Stockholm County|  16474|Stockholm|Stockholm, Sweden|          SE| Sweden|59.41003|  17.9366|                t|        Apartment|   Private room|           2|      1.0|       1|   2|Real Bed|{TV,\"Cable TV\",In...|        560|  $225.00|   $2,567.00|    $7,700.00|       $1,069.00|     $535.00|              1|     $267.00|            21|           365|                    21|                    21|                   365|                   365|                  21.0|                 365.0|    5 months ago|               t|              0|             17|             47|             322|  2019-09-28 00:00:00|               23|                    2|2012-03-01 00:00:00|2019-05-13 00:00:00|                  92|                     9|                       10|                    9|                          9|                     9|                  8|               f|   null|              null|               f|                       f|strict_14_with_gr...|                            f|                               f|                             1|                                          0|                                           1|                                          0|             0.25|\n",
      "| 12|273906|https://www.airbn...|20190928160308|2019-09-28 00:00:00|Penthouse in cent...|                null|This is a unique ...|This is a unique ...|               none|                 null|                null|                null|                null|                null|One of the main r...|         null|      null|https://a0.muscac...|          null|1432722|https://www.airbn...|  Rodrigo|2011-11-22 00:00:00|Stockholm, Stockh...|I am from Chile a...|    within an hour|              100%|                 N/A|                f|https://a0.muscac...|https://a0.muscac...|         Södermalm|                  2|                        2|['email', 'phone'...|                   t|                     f|Stockholm, Stockh...|    Skarpnäck|            Södermalms|                        null|Stockholm|Stockholm County|  12068|Stockholm|Stockholm, Sweden|          SE| Sweden|59.30414|  18.1068|                t|        Apartment|Entire home/apt|           4|      2.0|       3|   3|Real Bed|{TV,\"Cable TV\",In...|       1399|$1,957.00|  $12,719.00|   $48,918.00|           $0.00|   $1,223.00|              1|       $0.00|             6|            30|                     6|                     6|                    30|                    30|                   6.0|                  30.0|    5 months ago|               t|              0|              0|              0|             270|  2019-09-28 00:00:00|                8|                    0|2012-07-19 00:00:00|2018-07-07 00:00:00|                 100|                    10|                       10|                   10|                         10|                    10|                 10|               f|   null|              null|               t|                       f|strict_14_with_gr...|                            f|                               f|                             1|                                          1|                                           0|                                          0|             0.09|\n",
      "| 13|274876|https://www.airbn...|20190928160308|2019-09-28 00:00:00|Designer apartmen...|                null|Hej and welcome! ...|Hej and welcome! ...|               none| A quiet neighbour...|Check-in time is ...|Bus: Just outside...|                null|You can always re...|                null|         null|      null|https://a0.muscac...|          null|1437153|https://www.airbn...|     Emma|2011-11-23 00:00:00|Stockholm, Stockh...|Hi, this is my pl...|within a few hours|              100%|                 N/A|                t|https://a0.muscac...|https://a0.muscac...|              null|                  1|                        1|['email', 'phone'...|                   t|                     f|Stockholm, Stockh...|    Södermalm|            Södermalms|                        null|Stockholm|Stockholm County|  11628|Stockholm|Stockholm, Sweden|          SE| Sweden|59.31849| 18.09536|                t|        Apartment|Entire home/apt|           5|      1.0|       3|   5|Real Bed|{TV,\"Cable TV\",In...|       null|$3,150.00|        null|         null|       $4,278.00|   $1,069.00|              5|     $428.00|             4|           100|                     4|                     4|                   100|                   100|                   4.0|                 100.0|     6 weeks ago|               t|             27|             57|             87|             362|  2019-09-28 00:00:00|              113|                   23|2012-04-29 00:00:00|2019-09-22 00:00:00|                  99|                    10|                       10|                   10|                         10|                    10|                  9|               f|   null|              null|               f|                       f|            moderate|                            t|                               t|                             1|                                          1|                                           0|                                          0|             1.25|\n",
      "| 14|278311|https://www.airbn...|20190928160308|2019-09-28 00:00:00|Entire apt (some ...|When we will be a...|This awesome plac...|When we will be a...|               none| I love the lake, ...|                null|I love the public...|The entire apt, t...|I won't be around...|If you'd like to ...|         null|      null|https://a0.muscac...|          null|1452838|https://www.airbn...|   Linnéa|2011-11-29 00:00:00|Stockholm, Stockh...|Playful, fun-lovi...|within a few hours|              100%|                 N/A|                f|https://a0.muscac...|https://a0.muscac...|            Farsta|                  1|                        1|['email', 'phone'...|                   t|                     f|Farsta, Stockholm...|       Farsta|                Farsta|                        null|   Farsta|  Stockholms län|  12331|Stockholm|   Farsta, Sweden|          SE| Sweden|59.24534| 18.08729|                t|        Apartment|Entire home/apt|           6|      1.0|       1|   3|Real Bed|{Internet,Wifi,Ki...|        936|  $411.00|   $3,300.00|   $12,900.00|       $1,000.00|     $200.00|              1|     $250.00|             1|            30|                     1|                     1|                    30|                    30|                   1.0|                  30.0|     4 weeks ago|               t|             13|             43|             73|             348|  2019-09-28 00:00:00|               52|                    4|2011-12-16 00:00:00|2019-09-06 00:00:00|                  92|                     9|                        9|                   10|                         10|                     9|                  9|               f|   null|              null|               f|                       f|            moderate|                            f|                               f|                             1|                                          1|                                           0|                                          0|             0.55|\n",
      "| 15|283446|https://www.airbn...|20190928160308|2019-09-28 00:00:00|Comfort Stay @ Ki...|Independent priva...|Independent priva...|Independent priva...|               none| Our apartment is ...|Metro is availabl...|Our apartment is ...|hi-speed internet...|we ask few questi...|•VEGETARIAN FOOD ...|         null|      null|https://a0.muscac...|          null|1476562|https://www.airbn...| Vidhatri|2011-12-06 00:00:00|Stockholm, Stockh...|Hi..I am Vidhatri...|               N/A|               N/A|                 N/A|                f|https://a0.muscac...|https://a0.muscac...|     Rinkeby-Kista|                  1|                        1|['email', 'phone'...|                   t|                     t|Stockholm, Stockh...|Rinkeby-Kista|        Rinkeby-Tensta|                        null|Stockholm|Stockholm County|  16472|Stockholm|Stockholm, Sweden|          SE| Sweden|59.41533| 17.91465|                t|        Apartment|   Private room|           2|      1.0|       1|   2|Real Bed|{TV,\"Cable TV\",In...|        958|  $294.00|   $3,023.00|    $9,850.00|            null|        null|              1|     $175.00|             2|          1125|                     2|                     2|                  1125|                  1125|                   2.0|                1125.0|    4 months ago|               t|              0|              0|              6|               6|  2019-09-28 00:00:00|              104|                    1|2012-07-03 00:00:00|2018-10-28 00:00:00|                  97|                    10|                       10|                   10|                         10|                     9|                 10|               f|   null|              null|               t|                       f|            moderate|                            f|                               f|                             1|                                          0|                                           1|                                          0|             1.18|\n",
      "| 16|299154|https://www.airbn...|20190928160308|2019-09-28 00:00:00|Cosy apartment ce...|Very centrally lo...|An small apartmen...|Very centrally lo...|               none| Södermalm, often ...|Keys Leave the ke...|The subway is jus...|Hole apartment wi...|I interact with g...|Keys Leave the ke...|         null|      null|https://a0.muscac...|          null|1541953|https://www.airbn...|   Daniel|2011-12-28 00:00:00|Stockholm, Stockh...|Nice and friendly...|    within an hour|              100%|                 N/A|                f|https://a0.muscac...|https://a0.muscac...|         Södermalm|                  1|                        1|['email', 'phone'...|                   t|                     t|Stockholm, Stockh...|    Södermalm|            Södermalms|                        null|Stockholm|Stockholm County|  11846|Stockholm|Stockholm, Sweden|          SE| Sweden|59.31767| 18.07137|                t|        Apartment|Entire home/apt|           4|      1.0|       1|   2|Real Bed|{TV,\"Cable TV\",In...|        312|$1,106.00|        null|         null|       $1,500.00|       $0.00|              2|     $135.00|             2|            60|                     1|                     3|                    60|                    60|                   2.0|                  60.0|      a week ago|               t|              5|             26|             43|             232|  2019-09-28 00:00:00|              480|                   63|2013-06-16 00:00:00|2019-09-27 00:00:00|                  92|                    10|                        9|                   10|                         10|                    10|                  9|               f|   null|              null|               t|                       f|strict_14_with_gr...|                            f|                               t|                             1|                                          1|                                           0|                                          0|             6.27|\n",
      "| 17|301680|https://www.airbn...|20190928160308|2019-09-28 00:00:00|one cosy double r...|there are several...|Your room is cosy...|there are several...|               none| Beautiful surroun...|There is recyklin...|Just around the c...|A modern kitchen ...|If you enjoy fitn...|I expect that whe...|         null|      null|https://a0.muscac...|          null|1554143|https://www.airbn...|   Anitta|2012-01-01 00:00:00|Stockholm, Stockh...|I am a teacher an...|    within an hour|               83%|                 N/A|                f|https://a0.muscac...|https://a0.muscac...|              null|                  2|                        2|['email', 'phone'...|                   t|                     f|Långbro, Stockhol...|       Älvsjö|                Älvsjö|                        null|  Långbro|Stockholm County|  12533|Stockholm|  Långbro, Sweden|          SE| Sweden|59.27778| 17.99226|                t|Bed and breakfast|   Private room|           2|      1.0|       1|   1|Real Bed|{TV,Internet,Wifi...|       null|  $753.00|   $2,500.00|    $9,000.00|            null|      $80.00|              1|     $200.00|             1|          1125|                     1|                     1|                  1125|                  1125|                   1.0|                1125.0|    2 months ago|               t|             30|             60|             90|             365|  2019-09-28 00:00:00|               34|                    0|2012-07-09 00:00:00|2018-07-16 00:00:00|                  92|                     9|                       10|                    9|                          9|                     9|                  9|               f|   null|              null|               f|                       f|            flexible|                            f|                               f|                             2|                                          1|                                           1|                                          0|             0.39|\n",
      "| 18|302496|https://www.airbn...|20190928160308|2019-09-28 00:00:00|Spacious, bright,...|This unique apart...|The apartment is ...|This unique apart...|               none| The neighborhood ...|                null|Busstation with t...|You will have acc...|Ii you have probl...|No smoking. No pe...|         null|      null|https://a0.muscac...|          null|1557657|https://www.airbn...|     Seta|2012-01-02 00:00:00|Stockholm, Stockh...|I am described as...|      within a day|              100%|                 N/A|                t|https://a0.muscac...|https://a0.muscac...|          Norrmalm|                  2|                        2|['email', 'phone'...|                   t|                     t|Norrmalm, Stockho...|     Norrmalm|             Norrmalms|                        null| Norrmalm|Stockholm County|  11351|Stockholm| Norrmalm, Sweden|          SE| Sweden|59.34518| 18.06044|                t|        Apartment|Entire home/apt|           6|      1.5|       3|   6|Real Bed|{TV,Internet,Wifi...|       null|$2,798.00|        null|   $56,000.00|           $0.00|   $1,000.00|              4|     $500.00|             5|            60|                     5|                     5|                    60|                    60|                   5.0|                  60.0|     5 weeks ago|               t|              1|              2|              5|             267|  2019-09-28 00:00:00|               65|                   18|2012-06-18 00:00:00|2019-09-18 00:00:00|                  99|                    10|                       10|                   10|                         10|                    10|                 10|               f|   null|              null|               f|                       f|            moderate|                            f|                               f|                             1|                                          1|                                           0|                                          0|             0.73|\n",
      "| 19|313195|https://www.airbn...|20190928160308|2019-09-28 00:00:00|Design, style & v...|Just some minutes...|This perfectly co...|Just some minutes...|               none| Very near is all ...|                null|7 min walk to the...|Rent it up to 3 p...|                null|We love to welcom...|         null|      null|https://a0.muscac...|          null| 956221|https://www.airbn...|    David|2011-08-11 00:00:00|Stockholm, Stockh...|I'm an architect ...|               N/A|               N/A|                 N/A|                f|https://a0.muscac...|https://a0.muscac...|              null|                  2|                        2|['email', 'phone'...|                   t|                     t|Stockholm, Stockh...|     Norrmalm|             Norrmalms|                        null|Stockholm|Stockholm County|  11347|Stockholm|Stockholm, Sweden|          SE| Sweden|59.34763| 18.05015|                t|        Apartment|Entire home/apt|           3|      1.0|       1|   1|Real Bed|{Internet,Wifi,Ki...|          0|  $900.00|        null|         null|       $1,069.00|     $321.00|              2|     $203.00|             3|            30|                     3|                     3|                    30|                    30|                   3.0|                  30.0|   10 months ago|               t|              0|              0|              0|              46|  2019-09-28 00:00:00|               45|                    0|2012-08-03 00:00:00|2017-08-13 00:00:00|                  96|                    10|                        9|                   10|                          9|                     9|                  9|               f|   null|              null|               f|                       f|            moderate|                            f|                               f|                             1|                                          1|                                           0|                                          0|             0.52|\n",
      "| 20|313763|https://www.airbn...|20190928160308|2019-09-28 00:00:00|Excellent locatio...|Trendy Vasastan i...|Just by the Odenp...|Trendy Vasastan i...|               none| Vasastan (Vasasta...|    No kids allowed.|Walking distance ...|Smoking only allo...|                null|No loud music or ...|         null|      null|https://a0.muscac...|          null|1533849|https://www.airbn...|Martin P.|2011-12-25 00:00:00|Sarasota, Florida...|I host mostly so ...|    within an hour|              100%|                 N/A|                f|https://a0.muscac...|https://a0.muscac...|          Norrmalm|                  4|                        4|['email', 'phone'...|                   t|                     t|Stockholm, Stockh...|     Norrmalm|             Norrmalms|                        null|Stockholm|  Stockholms län| 113 28|Stockholm|Stockholm, Sweden|          SE| Sweden|59.34398| 18.04959|                f|             Loft|   Private room|           1|      1.0|       1|   1|Real Bed|{TV,\"Cable TV\",In...|       null|  $646.00|     $840.00|    $2,780.00|         $900.00|     $290.00|              2|       $0.00|             2|            45|                     2|                     2|                    45|                    45|                   2.0|                  45.0|      a week ago|               t|              4|              4|              4|               4|  2019-09-28 00:00:00|               50|                    6|2012-06-04 00:00:00|2019-09-03 00:00:00|                  98|                    10|                       10|                   10|                         10|                    10|                  9|               f|   null|              null|               f|                       f|strict_14_with_gr...|                            t|                               f|                             1|                                          0|                                           1|                                          0|             0.56|\n",
      "+---+------+--------------------+--------------+-------------------+--------------------+--------------------+--------------------+--------------------+-------------------+---------------------+--------------------+--------------------+--------------------+--------------------+--------------------+-------------+----------+--------------------+--------------+-------+--------------------+---------+-------------------+--------------------+--------------------+------------------+------------------+--------------------+-----------------+--------------------+--------------------+------------------+-------------------+-------------------------+--------------------+--------------------+----------------------+--------------------+-------------+----------------------+----------------------------+---------+----------------+-------+---------+-----------------+------------+-------+--------+---------+-----------------+-----------------+---------------+------------+---------+--------+----+--------+--------------------+-----------+---------+------------+-------------+----------------+------------+---------------+------------+--------------+--------------+----------------------+----------------------+----------------------+----------------------+----------------------+----------------------+----------------+----------------+---------------+---------------+---------------+----------------+---------------------+-----------------+---------------------+-------------------+-------------------+--------------------+----------------------+-------------------------+---------------------+---------------------------+----------------------+-------------------+----------------+-------+------------------+----------------+------------------------+--------------------+-----------------------------+--------------------------------+------------------------------+-------------------------------------------+--------------------------------------------+-------------------------------------------+-----------------+\n",
      "only showing top 20 rows\n",
      "\n"
     ]
    }
   ],
   "source": [
    "df.show()"
   ]
  },
  {
   "cell_type": "code",
   "execution_count": 28,
   "metadata": {},
   "outputs": [
    {
     "name": "stdout",
     "output_type": "stream",
     "text": [
      "+--------------------+\n",
      "|         listing_url|\n",
      "+--------------------+\n",
      "|https://www.airbn...|\n",
      "|https://www.airbn...|\n",
      "|https://www.airbn...|\n",
      "|https://www.airbn...|\n",
      "|https://www.airbn...|\n",
      "|https://www.airbn...|\n",
      "|https://www.airbn...|\n",
      "|https://www.airbn...|\n",
      "|https://www.airbn...|\n",
      "|https://www.airbn...|\n",
      "|https://www.airbn...|\n",
      "|https://www.airbn...|\n",
      "|https://www.airbn...|\n",
      "|https://www.airbn...|\n",
      "|https://www.airbn...|\n",
      "|https://www.airbn...|\n",
      "|https://www.airbn...|\n",
      "|https://www.airbn...|\n",
      "|https://www.airbn...|\n",
      "|https://www.airbn...|\n",
      "+--------------------+\n",
      "only showing top 20 rows\n",
      "\n"
     ]
    }
   ],
   "source": [
    "df.select(\"listing_url\").show()"
   ]
  },
  {
   "cell_type": "markdown",
   "metadata": {},
   "source": [
    "### Describe the data\n",
    "List the features (schema) and sizes of the datasets."
   ]
  },
  {
   "cell_type": "code",
   "execution_count": null,
   "metadata": {},
   "outputs": [],
   "source": [
    "df = df.filter.isNotNull()"
   ]
  },
  {
   "cell_type": "code",
   "execution_count": 29,
   "metadata": {},
   "outputs": [
    {
     "name": "stdout",
     "output_type": "stream",
     "text": [
      "root\n",
      " |-- _c0: integer (nullable = true)\n",
      " |-- id: integer (nullable = true)\n",
      " |-- listing_url: string (nullable = true)\n",
      " |-- scrape_id: long (nullable = true)\n",
      " |-- last_scraped: timestamp (nullable = true)\n",
      " |-- name: string (nullable = true)\n",
      " |-- summary: string (nullable = true)\n",
      " |-- space: string (nullable = true)\n",
      " |-- description: string (nullable = true)\n",
      " |-- experiences_offered: string (nullable = true)\n",
      " |-- neighborhood_overview: string (nullable = true)\n",
      " |-- notes: string (nullable = true)\n",
      " |-- transit: string (nullable = true)\n",
      " |-- access: string (nullable = true)\n",
      " |-- interaction: string (nullable = true)\n",
      " |-- house_rules: string (nullable = true)\n",
      " |-- thumbnail_url: string (nullable = true)\n",
      " |-- medium_url: string (nullable = true)\n",
      " |-- picture_url: string (nullable = true)\n",
      " |-- xl_picture_url: string (nullable = true)\n",
      " |-- host_id: integer (nullable = true)\n",
      " |-- host_url: string (nullable = true)\n",
      " |-- host_name: string (nullable = true)\n",
      " |-- host_since: timestamp (nullable = true)\n",
      " |-- host_location: string (nullable = true)\n",
      " |-- host_about: string (nullable = true)\n",
      " |-- host_response_time: string (nullable = true)\n",
      " |-- host_response_rate: string (nullable = true)\n",
      " |-- host_acceptance_rate: string (nullable = true)\n",
      " |-- host_is_superhost: string (nullable = true)\n",
      " |-- host_thumbnail_url: string (nullable = true)\n",
      " |-- host_picture_url: string (nullable = true)\n",
      " |-- host_neighbourhood: string (nullable = true)\n",
      " |-- host_listings_count: integer (nullable = true)\n",
      " |-- host_total_listings_count: integer (nullable = true)\n",
      " |-- host_verifications: string (nullable = true)\n",
      " |-- host_has_profile_pic: string (nullable = true)\n",
      " |-- host_identity_verified: string (nullable = true)\n",
      " |-- street: string (nullable = true)\n",
      " |-- neighbourhood: string (nullable = true)\n",
      " |-- neighbourhood_cleansed: string (nullable = true)\n",
      " |-- neighbourhood_group_cleansed: string (nullable = true)\n",
      " |-- city: string (nullable = true)\n",
      " |-- state: string (nullable = true)\n",
      " |-- zipcode: string (nullable = true)\n",
      " |-- market: string (nullable = true)\n",
      " |-- smart_location: string (nullable = true)\n",
      " |-- country_code: string (nullable = true)\n",
      " |-- country: string (nullable = true)\n",
      " |-- latitude: double (nullable = true)\n",
      " |-- longitude: double (nullable = true)\n",
      " |-- is_location_exact: string (nullable = true)\n",
      " |-- property_type: string (nullable = true)\n",
      " |-- room_type: string (nullable = true)\n",
      " |-- accommodates: integer (nullable = true)\n",
      " |-- bathrooms: double (nullable = true)\n",
      " |-- bedrooms: integer (nullable = true)\n",
      " |-- beds: integer (nullable = true)\n",
      " |-- bed_type: string (nullable = true)\n",
      " |-- amenities: string (nullable = true)\n",
      " |-- square_feet: integer (nullable = true)\n",
      " |-- price: string (nullable = true)\n",
      " |-- weekly_price: string (nullable = true)\n",
      " |-- monthly_price: string (nullable = true)\n",
      " |-- security_deposit: string (nullable = true)\n",
      " |-- cleaning_fee: string (nullable = true)\n",
      " |-- guests_included: integer (nullable = true)\n",
      " |-- extra_people: string (nullable = true)\n",
      " |-- minimum_nights: integer (nullable = true)\n",
      " |-- maximum_nights: integer (nullable = true)\n",
      " |-- minimum_minimum_nights: integer (nullable = true)\n",
      " |-- maximum_minimum_nights: integer (nullable = true)\n",
      " |-- minimum_maximum_nights: integer (nullable = true)\n",
      " |-- maximum_maximum_nights: integer (nullable = true)\n",
      " |-- minimum_nights_avg_ntm: double (nullable = true)\n",
      " |-- maximum_nights_avg_ntm: double (nullable = true)\n",
      " |-- calendar_updated: string (nullable = true)\n",
      " |-- has_availability: string (nullable = true)\n",
      " |-- availability_30: integer (nullable = true)\n",
      " |-- availability_60: integer (nullable = true)\n",
      " |-- availability_90: integer (nullable = true)\n",
      " |-- availability_365: integer (nullable = true)\n",
      " |-- calendar_last_scraped: timestamp (nullable = true)\n",
      " |-- number_of_reviews: integer (nullable = true)\n",
      " |-- number_of_reviews_ltm: integer (nullable = true)\n",
      " |-- first_review: timestamp (nullable = true)\n",
      " |-- last_review: timestamp (nullable = true)\n",
      " |-- review_scores_rating: integer (nullable = true)\n",
      " |-- review_scores_accuracy: integer (nullable = true)\n",
      " |-- review_scores_cleanliness: integer (nullable = true)\n",
      " |-- review_scores_checkin: integer (nullable = true)\n",
      " |-- review_scores_communication: integer (nullable = true)\n",
      " |-- review_scores_location: integer (nullable = true)\n",
      " |-- review_scores_value: integer (nullable = true)\n",
      " |-- requires_license: string (nullable = true)\n",
      " |-- license: string (nullable = true)\n",
      " |-- jurisdiction_names: string (nullable = true)\n",
      " |-- instant_bookable: string (nullable = true)\n",
      " |-- is_business_travel_ready: string (nullable = true)\n",
      " |-- cancellation_policy: string (nullable = true)\n",
      " |-- require_guest_profile_picture: string (nullable = true)\n",
      " |-- require_guest_phone_verification: string (nullable = true)\n",
      " |-- calculated_host_listings_count: integer (nullable = true)\n",
      " |-- calculated_host_listings_count_entire_homes: integer (nullable = true)\n",
      " |-- calculated_host_listings_count_private_rooms: integer (nullable = true)\n",
      " |-- calculated_host_listings_count_shared_rooms: integer (nullable = true)\n",
      " |-- reviews_per_month: double (nullable = true)\n",
      "\n"
     ]
    }
   ],
   "source": [
    "df.printSchema()"
   ]
  },
  {
   "cell_type": "code",
   "execution_count": null,
   "metadata": {},
   "outputs": [],
   "source": [
    "df.shape()"
   ]
  },
  {
   "cell_type": "markdown",
   "metadata": {},
   "source": [
    "### Prepare the data for analysis\n",
    "You should prepare two dataframes to be used in the analysis part of the project. You should not be concerned with cleaning the data. There's a lot of it, so it will be sufficient to drop rows that have bad values. You may want to go back and refine this step at a later point when doing the analysis.\n",
    "\n",
    "You may also want to consider if you can stage your data so that subsequent processing is more efficient (this is not strictly necessary for Spark to run, but you may be able to decrease the time you sit around waiting for Spark to finish things)"
   ]
  },
  {
   "cell_type": "code",
   "execution_count": null,
   "metadata": {},
   "outputs": [],
   "source": []
  },
  {
   "cell_type": "markdown",
   "metadata": {},
   "source": [
    "# Part 2: Analysis\n",
    "Use Spark and your favorite tool for data visualization to solve the following tasks.\n",
    "\n",
    "## The basics\n",
    "Compute and show a dataframe with the number of listings and neighbourhoods per city."
   ]
  },
  {
   "cell_type": "code",
   "execution_count": null,
   "metadata": {},
   "outputs": [],
   "source": []
  },
  {
   "cell_type": "markdown",
   "metadata": {},
   "source": [
    "Based on the table above, you should choose a city that you want to continue your analysis for. The city should have mulitple neighbourhoods with listings in them.\n",
    "\n",
    "Compute and visualize the number of listings of different property types per neighbourhood in your city."
   ]
  },
  {
   "cell_type": "code",
   "execution_count": null,
   "metadata": {},
   "outputs": [],
   "source": []
  },
  {
   "cell_type": "markdown",
   "metadata": {},
   "source": [
    "## Prices\n",
    "Compute the minimum, maximum and average listing price in your city. "
   ]
  },
  {
   "cell_type": "code",
   "execution_count": null,
   "metadata": {},
   "outputs": [],
   "source": []
  },
  {
   "cell_type": "markdown",
   "metadata": {},
   "source": [
    "Compute and visualize the distribution of listing prices in your city."
   ]
  },
  {
   "cell_type": "code",
   "execution_count": null,
   "metadata": {},
   "outputs": [],
   "source": []
  },
  {
   "cell_type": "markdown",
   "metadata": {},
   "source": [
    "The value of a listing is its rating divided by its price.\n",
    "\n",
    "Compute and show a dataframe with the 3 highest valued listings in each neighbourhood."
   ]
  },
  {
   "cell_type": "code",
   "execution_count": null,
   "metadata": {},
   "outputs": [],
   "source": []
  },
  {
   "cell_type": "markdown",
   "metadata": {},
   "source": [
    "## Trends\n",
    "Now we want to analyze the \"popularity\" of your city. The data does not contain the number of bookings per listing, but we have a large number of reviews, and we will assume that this is a good indicator of activity on listings."
   ]
  },
  {
   "cell_type": "markdown",
   "metadata": {},
   "source": [
    "Compute and visualize the popularity (i.e., number of reviews) of your city over time."
   ]
  },
  {
   "cell_type": "code",
   "execution_count": null,
   "metadata": {},
   "outputs": [],
   "source": []
  },
  {
   "cell_type": "markdown",
   "metadata": {},
   "source": [
    "Compute and visualize the popularity of neighbourhoods over time. If there are many neighbourhoods in your city, you should select a few interesting ones for comparison."
   ]
  },
  {
   "cell_type": "code",
   "execution_count": null,
   "metadata": {},
   "outputs": [],
   "source": []
  },
  {
   "cell_type": "markdown",
   "metadata": {},
   "source": [
    "Compute and visualize the popularity of your city by season. For example, visualize the popularity of your city per month."
   ]
  },
  {
   "cell_type": "code",
   "execution_count": null,
   "metadata": {},
   "outputs": [],
   "source": []
  },
  {
   "cell_type": "markdown",
   "metadata": {},
   "source": [
    "## Reviews\n",
    "In this part you should determine which words used in reviews that are the most positive. \n",
    "\n",
    "The individual reviews do not have a rating of the listing, so we will assume that each review gave the average rating to the listing, i.e., the one on the listing.\n",
    "\n",
    "You should assign a positivity weight to each word seen in reviews and list the words with the highest weight. It is up to you to decide what the weight should be. For example, it can be a function of the rating on the listing on which it occurs, the number of reviews it occurs in, and the number of unique listings for which it was used to review.\n",
    "\n",
    "Depending on your choice of weight function, you may also want to do some filtering of words. For example, remove words that only occur in a few reviews."
   ]
  },
  {
   "cell_type": "code",
   "execution_count": null,
   "metadata": {},
   "outputs": [],
   "source": []
  }
 ],
 "metadata": {
  "kernelspec": {
   "display_name": "Python 3",
   "language": "python",
   "name": "python3"
  },
  "language_info": {
   "codemirror_mode": {
    "name": "ipython",
    "version": 3
   },
   "file_extension": ".py",
   "mimetype": "text/x-python",
   "name": "python",
   "nbconvert_exporter": "python",
   "pygments_lexer": "ipython3",
   "version": "3.7.3"
  }
 },
 "nbformat": 4,
 "nbformat_minor": 2
}
