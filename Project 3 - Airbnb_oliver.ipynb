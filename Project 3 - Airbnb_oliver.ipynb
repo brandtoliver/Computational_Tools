{
 "cells": [
  {
   "cell_type": "markdown",
   "metadata": {},
   "source": [
    "# Project 3: Airbnb\n",
    "**This is the third of three mandatory projects to be handed in as part of the assessment for the course 02807 Computational Tools for Data Science at Technical University of Denmark, autumn 2019.**\n",
    "\n",
    "#### Practical info\n",
    "- **The project is to be done in groups of at most 3 students**\n",
    "- **Each group has to hand in _one_ Jupyter notebook (this notebook) with their solution**\n",
    "- **The hand-in of the notebook is due 2019-12-05, 23:59 on DTU Inside**\n",
    "\n",
    "#### Your solution\n",
    "- **Your solution should be in Python/PySpark**\n",
    "- **For each question you may use as many cells for your solution as you like**\n",
    "- **You should not remove the problem statements**\n",
    "- **Your notebook should be runnable, i.e., clicking [>>] in Jupyter should generate the result that you want to be assessed**\n",
    "- **You are not expected to use machine learning to solve any of the exercises**"
   ]
  },
  {
   "cell_type": "markdown",
   "metadata": {},
   "source": [
    "# Introduction\n",
    "[Airbnb](http://airbnb.com) is an online marketplace for arranging or offering lodgings. In this project you will use Spark to analyze data obtained from the Airbnb website. The purpose of the analysis is to extract information about trends and patterns from the data.\n",
    "\n",
    "The project has two parts.\n",
    "\n",
    "### Part 1: Loading, describing and preparing the data\n",
    "There's quite a lot of data. Make sure that you can load and correctly parse the data, and that you understand what the dataset contains. You should also prepare the data for the analysis in part two. This means cleaning it and staging it so that subsequent queries are fast.\n",
    "\n",
    "### Par 2: Analysis\n",
    "In this part your goal is to learn about trends and usage patterns from the data. You should give solutions to the tasks defined in this notebook, and you should use Spark to do the data processing. You may use other libraries like for instance Pandas and matplotlib for visualisation.\n",
    "\n",
    "## Guidelines\n",
    "- Processing data should be done using Spark. Once data has been reduced to aggregate form, you may use collect to extract it into Python for visualisation.\n",
    "- Your solutions will be evaluated by correctness, code quality and interpretability of the output. This means that you have to write clean and efficient Spark code that will generate sensible execution plans, and that the tables and visualisations that you produce are meaningful and easy to read.\n",
    "- You may add more cells for your solutions, but you should not modify the notebook otherwise."
   ]
  },
  {
   "cell_type": "markdown",
   "metadata": {},
   "source": [
    "### Create Spark session and define imports"
   ]
  },
  {
   "cell_type": "code",
   "execution_count": 1,
   "metadata": {},
   "outputs": [],
   "source": [
    "from pyspark.sql import *\n",
    "from pyspark.sql import functions as f\n",
    "from pyspark.sql.types import *\n",
    "\n",
    "spark = SparkSession.builder.appName(\"SparkIntro\").getOrCreate()"
   ]
  },
  {
   "cell_type": "markdown",
   "metadata": {},
   "source": [
    "# Part 1: Loading, describing and preparing the data\n",
    "The data comes in two files. Start by downloading the files and putting them in your `data/` folder.\n",
    "\n",
    "- [Listings](https://files.dtu.dk/u/siPzAasj8w2gI_ME/listings.csv?l) (5 GB)\n",
    "- [Reviews](https://files.dtu.dk/u/k3oaPYp6GjKBeho4/reviews.csv?l) (9.5 GB)"
   ]
  },
  {
   "cell_type": "markdown",
   "metadata": {},
   "source": [
    "### Load the data\n",
    "The data has multiline rows (rows that span multiple lines in the file). To correctly parse these you should use the `multiline` option and set the `escape` character to be `\"`."
   ]
  },
  {
   "cell_type": "code",
   "execution_count": 3,
   "metadata": {},
   "outputs": [],
   "source": [
    "# remove rows that has bad values (just discard)\n",
    "# engineer to improve data\n",
    "df = spark.read.option('header', True).option('inferSchema', True).option('multiline', True).option('escape','\"').csv('../data/listings_sub_10000.csv')\n",
    "#df.groupBy('Pclass').agg(f.sum('Fare'), f.avg('Fare'), f.max('Fare')).show()\n",
    "#df = spark.read.option('header', True).option('inferSchema', True).option('multiline', True).option('escape','\"').csv(spark.read.option('delimitter', \",\").option('multiline', True).option('escape','\"').text('data/listings.csv').limit(20).rdd.flatMap(lambda x: x))\n"
   ]
  },
  {
   "cell_type": "code",
   "execution_count": 4,
   "metadata": {},
   "outputs": [],
   "source": [
    "df_review = spark.read.option('header', True).option('inferSchema', True).option('multiline', True).option('escape','\"').csv('../data/reviews_sub_10000.csv')"
   ]
  },
  {
   "cell_type": "markdown",
   "metadata": {},
   "source": [
    "### Describe the data\n",
    "List the features (schema) and sizes of the datasets."
   ]
  },
  {
   "cell_type": "code",
   "execution_count": null,
   "metadata": {},
   "outputs": [],
   "source": [
    "df.printSchema()"
   ]
  },
  {
   "cell_type": "code",
   "execution_count": null,
   "metadata": {},
   "outputs": [],
   "source": [
    "from functools import reduce\n",
    "test = df.where(reduce(lambda x, y: x & y,  (f.col(x) != 'null' for x in df.columns)))"
   ]
  },
  {
   "cell_type": "markdown",
   "metadata": {},
   "source": [
    "### Prepare the data for analysis\n",
    "You should prepare two dataframes to be used in the analysis part of the project. You should not be concerned with cleaning the data. There's a lot of it, so it will be sufficient to drop rows that have bad values. You may want to go back and refine this step at a later point when doing the analysis.\n",
    "\n",
    "You may also want to consider if you can stage your data so that subsequent processing is more efficient (this is not strictly necessary for Spark to run, but you may be able to decrease the time you sit around waiting for Spark to finish things)"
   ]
  },
  {
   "cell_type": "code",
   "execution_count": 87,
   "metadata": {},
   "outputs": [],
   "source": [
    "dfp = df.toPandas()"
   ]
  },
  {
   "cell_type": "code",
   "execution_count": 153,
   "metadata": {},
   "outputs": [
    {
     "data": {
      "text/plain": [
       "_c0                                            0\n",
       "maximum_minimum_nights                         0\n",
       "minimum_minimum_nights                         0\n",
       "maximum_nights                                 0\n",
       "minimum_nights                                 0\n",
       "extra_people                                   0\n",
       "guests_included                                0\n",
       "price                                          0\n",
       "amenities                                      0\n",
       "bed_type                                       0\n",
       "accommodates                                   0\n",
       "calculated_host_listings_count_shared_rooms    0\n",
       "property_type                                  0\n",
       "is_location_exact                              0\n",
       "longitude                                      0\n",
       "latitude                                       0\n",
       "country                                        0\n",
       "country_code                                   0\n",
       "minimum_maximum_nights                         0\n",
       "maximum_maximum_nights                         0\n",
       "dtype: int64"
      ]
     },
     "execution_count": 153,
     "metadata": {},
     "output_type": "execute_result"
    }
   ],
   "source": [
    "dfp.isna().sum().sort_values().head(20)"
   ]
  },
  {
   "cell_type": "markdown",
   "metadata": {},
   "source": [
    "# Part 2: Analysis\n",
    "Use Spark and your favorite tool for data visualization to solve the following tasks.\n",
    "\n",
    "## The basics\n",
    "Compute and show a dataframe with the number of listings and neighbourhoods per city."
   ]
  },
  {
   "cell_type": "code",
   "execution_count": 247,
   "metadata": {},
   "outputs": [
    {
     "name": "stdout",
     "output_type": "stream",
     "text": [
      "+------------------+--------+--------------+\n",
      "|              city|Listings|Neighbourhoods|\n",
      "+------------------+--------+--------------+\n",
      "|         Stockholm|    4297|            14|\n",
      "|              Oslo|    2227|            14|\n",
      "|        Stockholm |      27|             9|\n",
      "|              null|      13|             7|\n",
      "|       Kungsholmen|     360|             5|\n",
      "|  Stockholm County|       7|             5|\n",
      "|         Södermalm|     845|             4|\n",
      "|      Oslo kommune|       6|             3|\n",
      "|         Östermalm|     267|             3|\n",
      "|Hässelby-Vällingby|      92|             2|\n",
      "|            Bromma|     182|             2|\n",
      "|        斯德哥尔摩|       3|             2|\n",
      "|         Estocolmo|       3|             2|\n",
      "|         Hägersten|      13|             2|\n",
      "|            Farsta|      80|             2|\n",
      "|            Älvsjö|      89|             2|\n",
      "|      Enskededalen|      21|             2|\n",
      "|       Johanneshov|       7|             2|\n",
      "|         Stoccolma|       2|             2|\n",
      "|           Enskede|      12|             2|\n",
      "+------------------+--------+--------------+\n",
      "only showing top 20 rows\n",
      "\n"
     ]
    }
   ],
   "source": [
    "df.groupby('city').agg(f.count('_c0').alias('Listings'), f.countDistinct('neighbourhood').alias('Neighbourhoods')).orderBy(f.desc('Neighbourhoods')).show()"
   ]
  },
  {
   "cell_type": "markdown",
   "metadata": {},
   "source": [
    "Based on the table above, you should choose a city that you want to continue your analysis for. The city should have mulitple neighbourhoods with listings in them.\n",
    "\n",
    "Compute and visualize the number of listings of different property types per neighbourhood in your city."
   ]
  },
  {
   "cell_type": "code",
   "execution_count": 109,
   "metadata": {},
   "outputs": [],
   "source": [
    "prop_neigh_city = df.filter(f.col('city')=='Stockholm').groupby('property_type','neighbourhood').agg(f.count('_c0')).toPandas()"
   ]
  },
  {
   "cell_type": "code",
   "execution_count": 115,
   "metadata": {},
   "outputs": [],
   "source": [
    "import matplotlib.pyplot as plt\n",
    "import pandas as pd"
   ]
  },
  {
   "cell_type": "code",
   "execution_count": 249,
   "metadata": {},
   "outputs": [
    {
     "data": {
      "text/html": [
       "<div>\n",
       "<style scoped>\n",
       "    .dataframe tbody tr th:only-of-type {\n",
       "        vertical-align: middle;\n",
       "    }\n",
       "\n",
       "    .dataframe tbody tr th {\n",
       "        vertical-align: top;\n",
       "    }\n",
       "\n",
       "    .dataframe thead th {\n",
       "        text-align: right;\n",
       "    }\n",
       "</style>\n",
       "<table border=\"1\" class=\"dataframe\">\n",
       "  <thead>\n",
       "    <tr style=\"text-align: right;\">\n",
       "      <th></th>\n",
       "      <th>property_type</th>\n",
       "      <th>neighbourhood</th>\n",
       "      <th>count(_c0)</th>\n",
       "    </tr>\n",
       "  </thead>\n",
       "  <tbody>\n",
       "    <tr>\n",
       "      <td>0</td>\n",
       "      <td>Apartment</td>\n",
       "      <td>Farsta</td>\n",
       "      <td>62</td>\n",
       "    </tr>\n",
       "    <tr>\n",
       "      <td>1</td>\n",
       "      <td>Villa</td>\n",
       "      <td>Spånga-Tensta</td>\n",
       "      <td>1</td>\n",
       "    </tr>\n",
       "    <tr>\n",
       "      <td>2</td>\n",
       "      <td>Cabin</td>\n",
       "      <td>Hägersten-Liljeholmen</td>\n",
       "      <td>1</td>\n",
       "    </tr>\n",
       "    <tr>\n",
       "      <td>3</td>\n",
       "      <td>Townhouse</td>\n",
       "      <td>Skarpnäck</td>\n",
       "      <td>10</td>\n",
       "    </tr>\n",
       "    <tr>\n",
       "      <td>4</td>\n",
       "      <td>Villa</td>\n",
       "      <td>Hässelby-Vällingby</td>\n",
       "      <td>3</td>\n",
       "    </tr>\n",
       "  </tbody>\n",
       "</table>\n",
       "</div>"
      ],
      "text/plain": [
       "  property_type          neighbourhood  count(_c0)\n",
       "0     Apartment                 Farsta          62\n",
       "1         Villa          Spånga-Tensta           1\n",
       "2         Cabin  Hägersten-Liljeholmen           1\n",
       "3     Townhouse              Skarpnäck          10\n",
       "4         Villa     Hässelby-Vällingby           3"
      ]
     },
     "execution_count": 249,
     "metadata": {},
     "output_type": "execute_result"
    }
   ],
   "source": [
    "prop_neigh_city.head()"
   ]
  },
  {
   "cell_type": "code",
   "execution_count": 8,
   "metadata": {},
   "outputs": [
    {
     "data": {
      "image/png": "[encoded data removed]",
      "text/plain": [
       "<Figure size 1152x432 with 1 Axes>"
      ]
     },
     "metadata": {
      "needs_background": "light"
     },
     "output_type": "display_data"
    }
   ],
   "source": [
    "prop_neigh_city.pivot(index='neighbourhood',columns='property_type',\\\n",
    "                      values='count(_c0)').plot(kind='bar',figsize=(16,6),stacked=True)\n",
    "plt.show()"
   ]
  },
  {
   "cell_type": "markdown",
   "metadata": {},
   "source": [
    "## Prices\n",
    "Compute the minimum, maximum and average listing price in your city. "
   ]
  },
  {
   "cell_type": "code",
   "execution_count": 8,
   "metadata": {},
   "outputs": [],
   "source": [
    "city = \"Stockholm\""
   ]
  },
  {
   "cell_type": "code",
   "execution_count": 9,
   "metadata": {},
   "outputs": [],
   "source": [
    "df_s = df.filter(f.col(\"city\")==city)"
   ]
  },
  {
   "cell_type": "code",
   "execution_count": 10,
   "metadata": {},
   "outputs": [
    {
     "data": {
      "text/plain": [
       "4297"
      ]
     },
     "execution_count": 10,
     "metadata": {},
     "output_type": "execute_result"
    }
   ],
   "source": [
    "df_s.count()"
   ]
  },
  {
   "cell_type": "code",
   "execution_count": 11,
   "metadata": {},
   "outputs": [],
   "source": [
    "#df_s.price = df_s.price.cast('float')"
   ]
  },
  {
   "cell_type": "code",
   "execution_count": 12,
   "metadata": {},
   "outputs": [],
   "source": [
    "from pyspark.sql.types import *"
   ]
  },
  {
   "cell_type": "code",
   "execution_count": 13,
   "metadata": {},
   "outputs": [],
   "source": [
    "from pyspark.sql.functions import substring, length, col, expr\n",
    "df_s = df_s.withColumn(\"price\",expr(\"substring(price, 2, length(price))\"))"
   ]
  },
  {
   "cell_type": "code",
   "execution_count": 14,
   "metadata": {},
   "outputs": [],
   "source": [
    "from  pyspark.sql.functions import regexp_replace,col"
   ]
  },
  {
   "cell_type": "code",
   "execution_count": 15,
   "metadata": {},
   "outputs": [],
   "source": [
    "df_s = df_s.withColumn(\"price\", regexp_replace(f.col(\"price\"), \",\", \"\"))"
   ]
  },
  {
   "cell_type": "code",
   "execution_count": null,
   "metadata": {},
   "outputs": [],
   "source": [
    "#df_s.show()"
   ]
  },
  {
   "cell_type": "code",
   "execution_count": null,
   "metadata": {},
   "outputs": [],
   "source": [
    "#df_s.select(df_s.price.cast(\"float\").alias('price_new')).collect()"
   ]
  },
  {
   "cell_type": "code",
   "execution_count": 16,
   "metadata": {},
   "outputs": [],
   "source": [
    "from pyspark.sql.types import *\n",
    "df_d = df_s.withColumn(\"price\",df_s[\"price\"].cast(DoubleType()))"
   ]
  },
  {
   "cell_type": "code",
   "execution_count": 17,
   "metadata": {},
   "outputs": [],
   "source": [
    "#df_d.show()"
   ]
  },
  {
   "cell_type": "code",
   "execution_count": 23,
   "metadata": {
    "scrolled": true
   },
   "outputs": [
    {
     "name": "stdout",
     "output_type": "stream",
     "text": [
      "Basic statistics for Stockholm\n",
      "+------------------+---------+---------+\n",
      "|      Averge price|Max price|Min price|\n",
      "+------------------+---------+---------+\n",
      "|1104.4123807307424|  22463.0|     98.0|\n",
      "+------------------+---------+---------+\n",
      "\n"
     ]
    }
   ],
   "source": [
    "print(\"Basic statistics for\", city)\n",
    "df_d.select(f.avg('price').alias(\"Averge price\"), f.max('price').alias(\"Max price\"), f.min('price').alias(\"Min price\")).show()"
   ]
  },
  {
   "cell_type": "markdown",
   "metadata": {},
   "source": [
    "Compute and visualize the distribution of listing prices in your city."
   ]
  },
  {
   "cell_type": "code",
   "execution_count": 27,
   "metadata": {},
   "outputs": [],
   "source": [
    "import numpy as np\n",
    "import pandas as pd\n",
    "import seaborn as sns\n",
    "import matplotlib.pyplot as plt\n",
    "from scipy import stats\n",
    "sns.set(rc={'figure.figsize':(16,6)})"
   ]
  },
  {
   "cell_type": "code",
   "execution_count": 25,
   "metadata": {},
   "outputs": [],
   "source": [
    "df_city_p = df_d.toPandas()"
   ]
  },
  {
   "cell_type": "code",
   "execution_count": 28,
   "metadata": {
    "scrolled": false
   },
   "outputs": [
    {
     "data": {
      "image/png": "[encoded data removed]",
      "text/plain": [
       "<Figure size 1152x432 with 1 Axes>"
      ]
     },
     "metadata": {},
     "output_type": "display_data"
    }
   ],
   "source": [
    "sns.distplot(df_city_p.price, kde=False, rug=False, bins=150);"
   ]
  },
  {
   "cell_type": "markdown",
   "metadata": {},
   "source": [
    "The value of a listing is its rating divided by its price.\n",
    "\n",
    "Compute and show a dataframe with the 3 highest valued listings in each neighbourhood."
   ]
  },
  {
   "cell_type": "code",
   "execution_count": 29,
   "metadata": {},
   "outputs": [],
   "source": [
    "from pyspark.sql.functions import lit"
   ]
  },
  {
   "cell_type": "code",
   "execution_count": 30,
   "metadata": {},
   "outputs": [],
   "source": [
    "df_d = df_d.withColumn(\"review_scores_rating\",df_s[\"review_scores_rating\"].cast(DoubleType()))"
   ]
  },
  {
   "cell_type": "code",
   "execution_count": 31,
   "metadata": {},
   "outputs": [],
   "source": [
    "df_d = df_d.withColumn(\"value_listing\",lit(f.col(\"review_scores_rating\")/f.col(\"price\")))"
   ]
  },
  {
   "cell_type": "code",
   "execution_count": 32,
   "metadata": {},
   "outputs": [],
   "source": [
    "df_value = df_d.select(f.col(\"city\"),f.col(\"neighbourhood\"),(f.col(\"value_listing\")))"
   ]
  },
  {
   "cell_type": "code",
   "execution_count": 33,
   "metadata": {},
   "outputs": [],
   "source": [
    "#df_value.orderBy(df_value.value_listing.desc()).show()"
   ]
  },
  {
   "cell_type": "code",
   "execution_count": 34,
   "metadata": {},
   "outputs": [],
   "source": [
    "sorted_by_value = Window.partitionBy('neighbourhood').orderBy(f.desc('value_listing'))"
   ]
  },
  {
   "cell_type": "code",
   "execution_count": 35,
   "metadata": {},
   "outputs": [],
   "source": [
    "ranked_by_value = df_d.withColumn('value_listing_rank', f.rank().over(sorted_by_value))"
   ]
  },
  {
   "cell_type": "code",
   "execution_count": 36,
   "metadata": {},
   "outputs": [],
   "source": [
    "ranked_df = ranked_by_value.filter(f.col('value_listing_rank') <= 3).drop('value_listing_rank').orderBy('neighbourhood', f.desc('value_listing'))"
   ]
  },
  {
   "cell_type": "code",
   "execution_count": 37,
   "metadata": {
    "scrolled": true
   },
   "outputs": [
    {
     "name": "stdout",
     "output_type": "stream",
     "text": [
      "+--------------------+-------------------+---------+--------------------+\n",
      "|       neighbourhood|      value_listing|     city|                name|\n",
      "+--------------------+-------------------+---------+--------------------+\n",
      "|              Bromma| 0.7948717948717948|Stockholm| Nice room in Bromma|\n",
      "|              Bromma| 0.4444444444444444|Stockholm|        Balla Bromma|\n",
      "|              Bromma|              0.375|Stockholm|Rent a room in St...|\n",
      "|Enskede-Årsta-Vantör| 0.6802721088435374|Stockholm|Shared room for F...|\n",
      "|Enskede-Årsta-Vantör| 0.5102040816326531|Stockholm|Cosy 50th style a...|\n",
      "|Enskede-Årsta-Vantör|0.47959183673469385|Stockholm|Bekväm lägenhet i...|\n",
      "|              Farsta|0.47804878048780486|Stockholm|Private room in c...|\n",
      "|              Farsta|0.38188976377952755|Stockholm|Cozy Nice Room Wi...|\n",
      "|              Farsta|0.35826771653543305|Stockholm|Rum uthyres i Far...|\n",
      "|Hägersten-Liljeho...| 0.4266666666666667|Stockholm|Warm big room wit...|\n",
      "|Hägersten-Liljeho...|0.36742424242424243|Stockholm| \"My home your home\"|\n",
      "|Hägersten-Liljeho...|0.36220472440944884|Stockholm|Egen lägenhet i G...|\n",
      "|  Hässelby-Vällingby|  0.673469387755102|Stockholm|    Shared Apartment|\n",
      "|  Hässelby-Vällingby| 0.5923566878980892|Stockholm|Room2, for GIRL, ...|\n",
      "|  Hässelby-Vällingby|  0.489247311827957|Stockholm|Do you like to sh...|\n",
      "|         Kungsholmen| 0.5306122448979592|Stockholm|L32: bed in a dor...|\n",
      "|         Kungsholmen|             0.4375|Stockholm|L32:bed in a dorm...|\n",
      "|         Kungsholmen| 0.4030612244897959|Stockholm|L32: bed in a dor...|\n",
      "|         Kungsholmen| 0.4030612244897959|Stockholm|L32:bed in a dorm...|\n",
      "|            Norrmalm| 0.6054421768707483|Stockholm|A room with a vie...|\n",
      "|            Norrmalm|0.45365853658536587|Stockholm|Cozy shared room ...|\n",
      "|            Norrmalm| 0.2375296912114014|Stockholm|Cozy studio apart...|\n",
      "|       Rinkeby-Kista| 0.5102040816326531|Stockholm|Cosy room,peacefu...|\n",
      "|       Rinkeby-Kista| 0.5060240963855421|Stockholm|One single room c...|\n",
      "|       Rinkeby-Kista|                0.5|Stockholm|Pleasant, quiet l...|\n",
      "|           Skarpnäck|0.36742424242424243|Stockholm|Sunny room to let...|\n",
      "|           Skarpnäck| 0.3661417322834646|Stockholm|Near by The Tele2...|\n",
      "|           Skarpnäck| 0.3415492957746479|Stockholm|Room 15 min to St...|\n",
      "|          Skärholmen|0.31496062992125984|Stockholm| Bedroom in Vårberg.|\n",
      "|          Skärholmen| 0.3102310231023102|Stockholm|Comfy private roo...|\n",
      "|          Skärholmen| 0.3029197080291971|Stockholm|Happy Stay in My ...|\n",
      "|       Spånga-Tensta| 0.5102040816326531|Stockholm|Room P in a house...|\n",
      "|       Spånga-Tensta| 0.4744897959183674|Stockholm|Room V in a house...|\n",
      "|       Spånga-Tensta|0.45408163265306123|Stockholm|Cozy private room...|\n",
      "|           Södermalm|0.33003300330033003|Stockholm|Fantastiskt rum i...|\n",
      "|           Södermalm| 0.3234323432343234|Stockholm| Södermalm Stockholm|\n",
      "|           Södermalm| 0.3231292517006803|Stockholm|Skyscraper apartm...|\n",
      "|              Älvsjö| 0.2840909090909091|Stockholm|Comfortable doubl...|\n",
      "|              Älvsjö|0.26420454545454547|Stockholm|Nice room in a qu...|\n",
      "|              Älvsjö|0.25806451612903225|Stockholm|Comfortable styli...|\n",
      "|           Östermalm| 1.0204081632653061|Stockholm|Lägenhet om 40 kv...|\n",
      "|           Östermalm|0.33003300330033003|Stockholm|Sunlit room in th...|\n",
      "|           Östermalm|0.32673267326732675|Stockholm|Nice room at Gärdet!|\n",
      "+--------------------+-------------------+---------+--------------------+\n",
      "\n"
     ]
    }
   ],
   "source": [
    "ranked_df.select(f.col(\"neighbourhood\"),f.col(\"value_listing\"),f.col(\"city\"),f.col(\"name\")).show(50)"
   ]
  },
  {
   "cell_type": "markdown",
   "metadata": {},
   "source": [
    "## Trends\n",
    "Now we want to analyze the \"popularity\" of your city. The data does not contain the number of bookings per listing, but we have a large number of reviews, and we will assume that this is a good indicator of activity on listings."
   ]
  },
  {
   "cell_type": "markdown",
   "metadata": {},
   "source": [
    "Compute and visualize the popularity (i.e., number of reviews) of your city over time."
   ]
  },
  {
   "cell_type": "code",
   "execution_count": 70,
   "metadata": {},
   "outputs": [
    {
     "name": "stdout",
     "output_type": "stream",
     "text": [
      "+----------+---------+-------------------+-----------+\n",
      "|listing_id|review_id|               date|reviewer_id|\n",
      "+----------+---------+-------------------+-----------+\n",
      "|    145320|156423122|2017-05-30 00:00:00|  123386382|\n",
      "|    145320|170211906|2017-07-15 00:00:00|  123091743|\n",
      "|    145320|172169175|2017-07-20 00:00:00|      78004|\n",
      "|    145320|176647581|2017-07-31 00:00:00|  103178743|\n",
      "|    145320|185676021|2017-08-22 00:00:00|    4023961|\n",
      "|    145320|189668224|2017-09-02 00:00:00|  142869362|\n",
      "|    145320|191894030|2017-09-09 00:00:00|   25194419|\n",
      "|    145320|193316070|2017-09-13 00:00:00|   52056015|\n",
      "|    145320|196760607|2017-09-24 00:00:00|    3980456|\n",
      "|    145320|201885633|2017-10-09 00:00:00|   72139946|\n",
      "|    145320|203410181|2017-10-15 00:00:00|   23002655|\n",
      "|    145320|210619953|2017-11-10 00:00:00|    3451329|\n",
      "|    145320|211523951|2017-11-13 00:00:00|  105945750|\n",
      "|    145320|212932349|2017-11-19 00:00:00|     203826|\n",
      "|    145320|214018139|2017-11-24 00:00:00|   70756436|\n",
      "|    145320|216533345|2017-12-04 00:00:00|   10655526|\n",
      "|    145320|219021131|2017-12-16 00:00:00|   29246547|\n",
      "|    145320|231273225|2018-01-31 00:00:00|  160717975|\n",
      "|    145320|233159940|2018-02-08 00:00:00|   33212603|\n",
      "|    145320|234271335|2018-02-12 00:00:00|  160422715|\n",
      "+----------+---------+-------------------+-----------+\n",
      "only showing top 20 rows\n",
      "\n"
     ]
    }
   ],
   "source": [
    "df_review.show()"
   ]
  },
  {
   "cell_type": "code",
   "execution_count": 110,
   "metadata": {},
   "outputs": [],
   "source": [
    "df_stockholm = df.filter(f.col('city')=='Stockholm').select('city','neighbourhood','id')\n",
    "df_review = df_review.select('listing_id', 'reviewer_id', f.col('id').alias('review_id'),\\\n",
    "                             'date', f.year(\"date\").alias('year'), f.month(\"date\").alias('month'))"
   ]
  },
  {
   "cell_type": "code",
   "execution_count": 120,
   "metadata": {},
   "outputs": [],
   "source": [
    "df_join = df_stockholm.join(df_review, (df_stockholm.id == df_review.listing_id), how='left')\n",
    "df_plot = df_join.groupby('date').agg(f.count('review_id')).toPandas()"
   ]
  },
  {
   "cell_type": "code",
   "execution_count": 135,
   "metadata": {},
   "outputs": [],
   "source": [
    "df_plot['newDate'] = pd.to_datetime(df_plot.date.dt.strftime('%Y %m'))\n",
    "df_plot_newdate = df_plot.groupby('newDate').sum()"
   ]
  },
  {
   "cell_type": "code",
   "execution_count": 138,
   "metadata": {},
   "outputs": [
    {
     "data": {
      "image/png": "[encoded data removed]",
      "text/plain": [
       "<Figure size 1152x432 with 1 Axes>"
      ]
     },
     "metadata": {
      "needs_background": "light"
     },
     "output_type": "display_data"
    }
   ],
   "source": [
    "df_plot_newdate.plot(figsize=(16,6))\n",
    "plt.show()"
   ]
  },
  {
   "cell_type": "markdown",
   "metadata": {},
   "source": [
    "Compute and visualize the popularity of neighbourhoods over time. If there are many neighbourhoods in your city, you should select a few interesting ones for comparison."
   ]
  },
  {
   "cell_type": "code",
   "execution_count": 158,
   "metadata": {},
   "outputs": [],
   "source": [
    "df_plot = df_join.groupby('date','neighbourhood').agg(f.count('review_id')).toPandas()"
   ]
  },
  {
   "cell_type": "code",
   "execution_count": 159,
   "metadata": {},
   "outputs": [],
   "source": [
    "df_plot['newDate'] = pd.to_datetime(df_plot.date.dt.strftime('%Y %m'))\n",
    "df_plot_newdate = df_plot.groupby(['newDate','neighbourhood'], as_index=False).sum()"
   ]
  },
  {
   "cell_type": "code",
   "execution_count": 166,
   "metadata": {},
   "outputs": [],
   "source": [
    "df_plot = df_plot_newdate.pivot(index='newDate',columns='neighbourhood',\\\n",
    "                      values='count(review_id)')\n",
    "df_plot = df_plot[df_plot.index.notnull()].reset_index()\n",
    "df_plot = df_plot.fillna(0)"
   ]
  },
  {
   "cell_type": "code",
   "execution_count": 181,
   "metadata": {},
   "outputs": [
    {
     "data": {
      "image/png": "[encoded data removed]",
      "text/plain": [
       "<Figure size 1152x432 with 1 Axes>"
      ]
     },
     "metadata": {
      "needs_background": "light"
     },
     "output_type": "display_data"
    }
   ],
   "source": [
    "df_plot.plot(x='newDate', y=['Södermalm','Bromma','Östermalm'],figsize=(16,6))\n",
    "plt.show()"
   ]
  },
  {
   "cell_type": "markdown",
   "metadata": {},
   "source": [
    "Compute and visualize the popularity of your city by season. For example, visualize the popularity of your city per month."
   ]
  },
  {
   "cell_type": "code",
   "execution_count": 182,
   "metadata": {},
   "outputs": [],
   "source": [
    "df_plot = df_join.groupby('date').agg(f.count('review_id')).toPandas()"
   ]
  },
  {
   "cell_type": "code",
   "execution_count": 189,
   "metadata": {},
   "outputs": [],
   "source": [
    "df_plot['newDate'] = pd.to_datetime(df_plot.date.dt.strftime('%m'),format='%m' )\n",
    "df_plot_newdate = df_plot.groupby('newDate', as_index=False).sum()"
   ]
  },
  {
   "cell_type": "code",
   "execution_count": 195,
   "metadata": {},
   "outputs": [],
   "source": [
    "import matplotlib.dates as mdates"
   ]
  },
  {
   "cell_type": "code",
   "execution_count": 199,
   "metadata": {},
   "outputs": [
    {
     "data": {
      "image/png": "[encoded data removed]",
      "text/plain": [
       "<Figure size 1152x432 with 1 Axes>"
      ]
     },
     "metadata": {
      "needs_background": "light"
     },
     "output_type": "display_data"
    }
   ],
   "source": [
    "fig = df_plot_newdate.plot(x='newDate', y='count(review_id)',figsize=(16,6))\n",
    "fig.format_xdata = mdates.DateFormatter('%Y-%m-%d')\n",
    "plt.show()"
   ]
  },
  {
   "cell_type": "code",
   "execution_count": 218,
   "metadata": {},
   "outputs": [
    {
     "data": {
      "image/png": "[encoded data removed]",
      "text/plain": [
       "<Figure size 1152x432 with 1 Axes>"
      ]
     },
     "metadata": {
      "needs_background": "light"
     },
     "output_type": "display_data"
    }
   ],
   "source": [
    "fig, ax = plt.subplots(figsize=(16,6))\n",
    "\n",
    "ax.plot(df_plot_newdate.newDate, df_plot_newdate['count(review_id)'])\n",
    "#ax.xaxis.\n",
    "ax.set_xticks(df_plot_newdate.newDate, minor=True)\n",
    "ax.xaxis.set_major_formatter(mdates.DateFormatter(\"%B\"))\n",
    "ax.xaxis.set_minor_formatter(mdates.DateFormatter(\"%B\"))"
   ]
  },
  {
   "cell_type": "markdown",
   "metadata": {},
   "source": [
    "## Reviews\n",
    "In this part you should determine which words used in reviews that are the most positive. \n",
    "\n",
    "The individual reviews do not have a rating of the listing, so we will assume that each review gave the average rating to the listing, i.e., the one on the listing.\n",
    "\n",
    "You should assign a positivity weight to each word seen in reviews and list the words with the highest weight. It is up to you to decide what the weight should be. For example, it can be a function of the rating on the listing on which it occurs, the number of reviews it occurs in, and the number of unique listings for which it was used to review.\n",
    "\n",
    "Depending on your choice of weight function, you may also want to do some filtering of words. For example, remove words that only occur in a few reviews."
   ]
  },
  {
   "cell_type": "code",
   "execution_count": null,
   "metadata": {},
   "outputs": [],
   "source": [
    "import itertools\n",
    "import csv\n",
    "\n",
    "entries = []\n",
    "with open('/home/jovyan/work/Project3/reviews.csv', 'r') as f:\n",
    "    mycsv = csv.reader(f)\n",
    "    for row in itertools.islice(mycsv, 10000):\n",
    "        entries.append(row)\n",
    "        \n",
    "import pandas as pd\n",
    "columns_ = entries[0]\n",
    "df = pd.DataFrame(entries,columns=columns_)\n",
    "df = df.iloc[1:-1,:]\n",
    "#df.head()\n",
    "#df.to_csv(\"reviews_sub_10000.csv\")"
   ]
  },
  {
   "cell_type": "code",
   "execution_count": 38,
   "metadata": {},
   "outputs": [
    {
     "name": "stderr",
     "output_type": "stream",
     "text": [
      "/opt/conda/lib/python3.7/site-packages/IPython/core/interactiveshell.py:3058: DtypeWarning: Columns (1,3,16,17,19,20,28,33,34,41,49,50,54,55,56,57,60,66,68,69,70,71,72,73,74,75,78,79,80,81,83,84,87,88,89,90,91,92,93,95,96,102,103,104,105,106) have mixed types. Specify dtype option on import or set low_memory=False.\n",
      "  interactivity=interactivity, compiler=compiler, result=result)\n"
     ]
    }
   ],
   "source": [
    "r = pd.read_csv(\"reviews_sub_10000.csv\")\n",
    "l = pd.read_csv(\"listings_sub_10000.csv\")"
   ]
  },
  {
   "cell_type": "code",
   "execution_count": 39,
   "metadata": {},
   "outputs": [
    {
     "data": {
      "text/html": [
       "<div>\n",
       "<style scoped>\n",
       "    .dataframe tbody tr th:only-of-type {\n",
       "        vertical-align: middle;\n",
       "    }\n",
       "\n",
       "    .dataframe tbody tr th {\n",
       "        vertical-align: top;\n",
       "    }\n",
       "\n",
       "    .dataframe thead th {\n",
       "        text-align: right;\n",
       "    }\n",
       "</style>\n",
       "<table border=\"1\" class=\"dataframe\">\n",
       "  <thead>\n",
       "    <tr style=\"text-align: right;\">\n",
       "      <th></th>\n",
       "      <th>Unnamed: 0</th>\n",
       "      <th>listing_id</th>\n",
       "      <th>id</th>\n",
       "      <th>date</th>\n",
       "      <th>reviewer_id</th>\n",
       "      <th>reviewer_name</th>\n",
       "      <th>comments</th>\n",
       "    </tr>\n",
       "  </thead>\n",
       "  <tbody>\n",
       "    <tr>\n",
       "      <th>0</th>\n",
       "      <td>1</td>\n",
       "      <td>145320</td>\n",
       "      <td>156423122</td>\n",
       "      <td>2017-05-30</td>\n",
       "      <td>123386382</td>\n",
       "      <td>Erwin</td>\n",
       "      <td>Prima plek om Stockholm te bekijken. Alles is ...</td>\n",
       "    </tr>\n",
       "    <tr>\n",
       "      <th>1</th>\n",
       "      <td>2</td>\n",
       "      <td>145320</td>\n",
       "      <td>170211906</td>\n",
       "      <td>2017-07-15</td>\n",
       "      <td>123091743</td>\n",
       "      <td>Anne</td>\n",
       "      <td>Cosy and clean flat in quiet neighbourhood clo...</td>\n",
       "    </tr>\n",
       "    <tr>\n",
       "      <th>2</th>\n",
       "      <td>3</td>\n",
       "      <td>145320</td>\n",
       "      <td>172169175</td>\n",
       "      <td>2017-07-20</td>\n",
       "      <td>78004</td>\n",
       "      <td>Patricia</td>\n",
       "      <td>The host canceled this reservation 37 days bef...</td>\n",
       "    </tr>\n",
       "    <tr>\n",
       "      <th>3</th>\n",
       "      <td>4</td>\n",
       "      <td>145320</td>\n",
       "      <td>176647581</td>\n",
       "      <td>2017-07-31</td>\n",
       "      <td>103178743</td>\n",
       "      <td>Charlotte</td>\n",
       "      <td>Kim's place was outstanding and comfortable. W...</td>\n",
       "    </tr>\n",
       "    <tr>\n",
       "      <th>4</th>\n",
       "      <td>5</td>\n",
       "      <td>145320</td>\n",
       "      <td>185676021</td>\n",
       "      <td>2017-08-22</td>\n",
       "      <td>4023961</td>\n",
       "      <td>Alexander</td>\n",
       "      <td>great spacious apartment in a nice residential...</td>\n",
       "    </tr>\n",
       "  </tbody>\n",
       "</table>\n",
       "</div>"
      ],
      "text/plain": [
       "   Unnamed: 0  listing_id         id        date  reviewer_id reviewer_name  \\\n",
       "0           1      145320  156423122  2017-05-30    123386382         Erwin   \n",
       "1           2      145320  170211906  2017-07-15    123091743          Anne   \n",
       "2           3      145320  172169175  2017-07-20        78004      Patricia   \n",
       "3           4      145320  176647581  2017-07-31    103178743     Charlotte   \n",
       "4           5      145320  185676021  2017-08-22      4023961     Alexander   \n",
       "\n",
       "                                            comments  \n",
       "0  Prima plek om Stockholm te bekijken. Alles is ...  \n",
       "1  Cosy and clean flat in quiet neighbourhood clo...  \n",
       "2  The host canceled this reservation 37 days bef...  \n",
       "3  Kim's place was outstanding and comfortable. W...  \n",
       "4  great spacious apartment in a nice residential...  "
      ]
     },
     "execution_count": 39,
     "metadata": {},
     "output_type": "execute_result"
    }
   ],
   "source": [
    "r.head()"
   ]
  },
  {
   "cell_type": "code",
   "execution_count": 40,
   "metadata": {},
   "outputs": [
    {
     "data": {
      "text/html": [
       "<div>\n",
       "<style scoped>\n",
       "    .dataframe tbody tr th:only-of-type {\n",
       "        vertical-align: middle;\n",
       "    }\n",
       "\n",
       "    .dataframe tbody tr th {\n",
       "        vertical-align: top;\n",
       "    }\n",
       "\n",
       "    .dataframe thead th {\n",
       "        text-align: right;\n",
       "    }\n",
       "</style>\n",
       "<table border=\"1\" class=\"dataframe\">\n",
       "  <thead>\n",
       "    <tr style=\"text-align: right;\">\n",
       "      <th></th>\n",
       "      <th>Unnamed: 0</th>\n",
       "      <th>id</th>\n",
       "      <th>listing_url</th>\n",
       "      <th>scrape_id</th>\n",
       "      <th>last_scraped</th>\n",
       "      <th>name</th>\n",
       "      <th>summary</th>\n",
       "      <th>space</th>\n",
       "      <th>description</th>\n",
       "      <th>experiences_offered</th>\n",
       "      <th>...</th>\n",
       "      <th>instant_bookable</th>\n",
       "      <th>is_business_travel_ready</th>\n",
       "      <th>cancellation_policy</th>\n",
       "      <th>require_guest_profile_picture</th>\n",
       "      <th>require_guest_phone_verification</th>\n",
       "      <th>calculated_host_listings_count</th>\n",
       "      <th>calculated_host_listings_count_entire_homes</th>\n",
       "      <th>calculated_host_listings_count_private_rooms</th>\n",
       "      <th>calculated_host_listings_count_shared_rooms</th>\n",
       "      <th>reviews_per_month</th>\n",
       "    </tr>\n",
       "  </thead>\n",
       "  <tbody>\n",
       "    <tr>\n",
       "      <th>0</th>\n",
       "      <td>1</td>\n",
       "      <td>145320</td>\n",
       "      <td>https://www.airbnb.com/rooms/145320</td>\n",
       "      <td>20190928160308</td>\n",
       "      <td>2019-09-28</td>\n",
       "      <td>In the middle of it all - with a view!</td>\n",
       "      <td>Mitt boende passar par, kompisar och ensamäven...</td>\n",
       "      <td>A cozy three room flat with great personality....</td>\n",
       "      <td>Mitt boende passar par, kompisar och ensamäven...</td>\n",
       "      <td>none</td>\n",
       "      <td>...</td>\n",
       "      <td>t</td>\n",
       "      <td>f</td>\n",
       "      <td>strict_14_with_grace_period</td>\n",
       "      <td>f</td>\n",
       "      <td>f</td>\n",
       "      <td>1</td>\n",
       "      <td>0</td>\n",
       "      <td>1</td>\n",
       "      <td>0</td>\n",
       "      <td>2.54</td>\n",
       "    </tr>\n",
       "    <tr>\n",
       "      <th>1</th>\n",
       "      <td>2</td>\n",
       "      <td>155220</td>\n",
       "      <td>https://www.airbnb.com/rooms/155220</td>\n",
       "      <td>20190928160308</td>\n",
       "      <td>2019-09-28</td>\n",
       "      <td>Stockholm, new spacoius villa</td>\n",
       "      <td>Convenient and spacy home full of positive ene...</td>\n",
       "      <td>ABOUT THE HOUSE: Modern villa built in 2010. L...</td>\n",
       "      <td>ABOUT THE HOUSE: Modern villa built in 2010. L...</td>\n",
       "      <td>none</td>\n",
       "      <td>...</td>\n",
       "      <td>f</td>\n",
       "      <td>f</td>\n",
       "      <td>moderate</td>\n",
       "      <td>f</td>\n",
       "      <td>f</td>\n",
       "      <td>2</td>\n",
       "      <td>2</td>\n",
       "      <td>0</td>\n",
       "      <td>0</td>\n",
       "      <td>NaN</td>\n",
       "    </tr>\n",
       "    <tr>\n",
       "      <th>2</th>\n",
       "      <td>3</td>\n",
       "      <td>155685</td>\n",
       "      <td>https://www.airbnb.com/rooms/155685</td>\n",
       "      <td>20190928160308</td>\n",
       "      <td>2019-09-28</td>\n",
       "      <td>Hornstull with water view!</td>\n",
       "      <td>This apartment is located in the center of fun...</td>\n",
       "      <td>46 sqm apartment in Hornstulls, Södermalm Stoc...</td>\n",
       "      <td>This apartment is located in the center of fun...</td>\n",
       "      <td>none</td>\n",
       "      <td>...</td>\n",
       "      <td>f</td>\n",
       "      <td>f</td>\n",
       "      <td>moderate</td>\n",
       "      <td>f</td>\n",
       "      <td>f</td>\n",
       "      <td>1</td>\n",
       "      <td>1</td>\n",
       "      <td>0</td>\n",
       "      <td>0</td>\n",
       "      <td>0.22</td>\n",
       "    </tr>\n",
       "    <tr>\n",
       "      <th>3</th>\n",
       "      <td>4</td>\n",
       "      <td>164448</td>\n",
       "      <td>https://www.airbnb.com/rooms/164448</td>\n",
       "      <td>20190928160308</td>\n",
       "      <td>2019-09-28</td>\n",
       "      <td>Double room in central Stockholm with Wi-Fi</td>\n",
       "      <td>I am renting out a nice double room on the top...</td>\n",
       "      <td>ROOM: The room has a twin/double bed (2x90x200...</td>\n",
       "      <td>I am renting out a nice double room on the top...</td>\n",
       "      <td>none</td>\n",
       "      <td>...</td>\n",
       "      <td>t</td>\n",
       "      <td>f</td>\n",
       "      <td>flexible</td>\n",
       "      <td>t</td>\n",
       "      <td>t</td>\n",
       "      <td>2</td>\n",
       "      <td>0</td>\n",
       "      <td>2</td>\n",
       "      <td>0</td>\n",
       "      <td>3.13</td>\n",
       "    </tr>\n",
       "    <tr>\n",
       "      <th>4</th>\n",
       "      <td>5</td>\n",
       "      <td>170651</td>\n",
       "      <td>https://www.airbnb.com/rooms/170651</td>\n",
       "      <td>20190928160308</td>\n",
       "      <td>2019-09-28</td>\n",
       "      <td>Petit Charm Rooftop next to heaven</td>\n",
       "      <td>NaN</td>\n",
       "      <td>Welcome to this beautiful, small, and charming...</td>\n",
       "      <td>Welcome to this beautiful, small, and charming...</td>\n",
       "      <td>none</td>\n",
       "      <td>...</td>\n",
       "      <td>f</td>\n",
       "      <td>f</td>\n",
       "      <td>strict_14_with_grace_period</td>\n",
       "      <td>f</td>\n",
       "      <td>f</td>\n",
       "      <td>1</td>\n",
       "      <td>1</td>\n",
       "      <td>0</td>\n",
       "      <td>0</td>\n",
       "      <td>0.33</td>\n",
       "    </tr>\n",
       "  </tbody>\n",
       "</table>\n",
       "<p>5 rows × 107 columns</p>\n",
       "</div>"
      ],
      "text/plain": [
       "   Unnamed: 0      id                          listing_url       scrape_id  \\\n",
       "0           1  145320  https://www.airbnb.com/rooms/145320  20190928160308   \n",
       "1           2  155220  https://www.airbnb.com/rooms/155220  20190928160308   \n",
       "2           3  155685  https://www.airbnb.com/rooms/155685  20190928160308   \n",
       "3           4  164448  https://www.airbnb.com/rooms/164448  20190928160308   \n",
       "4           5  170651  https://www.airbnb.com/rooms/170651  20190928160308   \n",
       "\n",
       "  last_scraped                                         name  \\\n",
       "0   2019-09-28       In the middle of it all - with a view!   \n",
       "1   2019-09-28                Stockholm, new spacoius villa   \n",
       "2   2019-09-28                   Hornstull with water view!   \n",
       "3   2019-09-28  Double room in central Stockholm with Wi-Fi   \n",
       "4   2019-09-28           Petit Charm Rooftop next to heaven   \n",
       "\n",
       "                                             summary  \\\n",
       "0  Mitt boende passar par, kompisar och ensamäven...   \n",
       "1  Convenient and spacy home full of positive ene...   \n",
       "2  This apartment is located in the center of fun...   \n",
       "3  I am renting out a nice double room on the top...   \n",
       "4                                                NaN   \n",
       "\n",
       "                                               space  \\\n",
       "0  A cozy three room flat with great personality....   \n",
       "1  ABOUT THE HOUSE: Modern villa built in 2010. L...   \n",
       "2  46 sqm apartment in Hornstulls, Södermalm Stoc...   \n",
       "3  ROOM: The room has a twin/double bed (2x90x200...   \n",
       "4  Welcome to this beautiful, small, and charming...   \n",
       "\n",
       "                                         description experiences_offered  ...  \\\n",
       "0  Mitt boende passar par, kompisar och ensamäven...                none  ...   \n",
       "1  ABOUT THE HOUSE: Modern villa built in 2010. L...                none  ...   \n",
       "2  This apartment is located in the center of fun...                none  ...   \n",
       "3  I am renting out a nice double room on the top...                none  ...   \n",
       "4  Welcome to this beautiful, small, and charming...                none  ...   \n",
       "\n",
       "  instant_bookable is_business_travel_ready          cancellation_policy  \\\n",
       "0                t                        f  strict_14_with_grace_period   \n",
       "1                f                        f                     moderate   \n",
       "2                f                        f                     moderate   \n",
       "3                t                        f                     flexible   \n",
       "4                f                        f  strict_14_with_grace_period   \n",
       "\n",
       "  require_guest_profile_picture require_guest_phone_verification  \\\n",
       "0                             f                                f   \n",
       "1                             f                                f   \n",
       "2                             f                                f   \n",
       "3                             t                                t   \n",
       "4                             f                                f   \n",
       "\n",
       "  calculated_host_listings_count calculated_host_listings_count_entire_homes  \\\n",
       "0                              1                                           0   \n",
       "1                              2                                           2   \n",
       "2                              1                                           1   \n",
       "3                              2                                           0   \n",
       "4                              1                                           1   \n",
       "\n",
       "  calculated_host_listings_count_private_rooms  \\\n",
       "0                                            1   \n",
       "1                                            0   \n",
       "2                                            0   \n",
       "3                                            2   \n",
       "4                                            0   \n",
       "\n",
       "  calculated_host_listings_count_shared_rooms reviews_per_month  \n",
       "0                                           0              2.54  \n",
       "1                                           0               NaN  \n",
       "2                                           0              0.22  \n",
       "3                                           0              3.13  \n",
       "4                                           0              0.33  \n",
       "\n",
       "[5 rows x 107 columns]"
      ]
     },
     "execution_count": 40,
     "metadata": {},
     "output_type": "execute_result"
    }
   ],
   "source": [
    "l.head()"
   ]
  },
  {
   "cell_type": "markdown",
   "metadata": {},
   "source": [
    "From the listings we need to:\n",
    "- calculate the average rating for each ID\n",
    "- join the average rating on to the ratings"
   ]
  },
  {
   "cell_type": "code",
   "execution_count": 2,
   "metadata": {},
   "outputs": [],
   "source": [
    "dfl = spark.read.option(\"delimiter\",\",\").option(\"multiline\",True).option(\"header\", True).option(\"escape\",'\"').option(\"inferSchema\",True).csv('listings_sub_10000.csv')"
   ]
  },
  {
   "cell_type": "code",
   "execution_count": 3,
   "metadata": {},
   "outputs": [],
   "source": [
    "dfr = spark.read.option(\"delimiter\",\",\").option(\"multiline\",True).option(\"header\", True).option(\"escape\",'\"').option(\"inferSchema\",True).csv('reviews_sub_10000.csv')"
   ]
  },
  {
   "cell_type": "code",
   "execution_count": 47,
   "metadata": {},
   "outputs": [],
   "source": [
    "mean_scores = dfl.groupBy(\"id\").agg(f.mean(\"review_scores_rating\").alias(\"average_rating\"))"
   ]
  },
  {
   "cell_type": "code",
   "execution_count": 45,
   "metadata": {},
   "outputs": [],
   "source": [
    "spark.conf.set(\"spark.sql.autoBroadcastJoinThreshold\", -1)"
   ]
  },
  {
   "cell_type": "code",
   "execution_count": 48,
   "metadata": {},
   "outputs": [
    {
     "name": "stdout",
     "output_type": "stream",
     "text": [
      "+--------+--------------+\n",
      "|      id|average_rating|\n",
      "+--------+--------------+\n",
      "|  438129|          95.0|\n",
      "| 2466500|          99.0|\n",
      "| 3361594|         100.0|\n",
      "| 4045800|         100.0|\n",
      "| 4892006|          95.0|\n",
      "| 5436847|          90.0|\n",
      "| 6084492|         100.0|\n",
      "| 6765153|          93.0|\n",
      "| 7046029|         100.0|\n",
      "| 7746807|         100.0|\n",
      "| 8374408|          95.0|\n",
      "|11245734|         100.0|\n",
      "|12418867|         100.0|\n",
      "|13048954|          99.0|\n",
      "|13639296|          98.0|\n",
      "|16322150|          95.0|\n",
      "|17601470|          87.0|\n",
      "|17603444|          90.0|\n",
      "|17732905|          98.0|\n",
      "|17742573|          97.0|\n",
      "+--------+--------------+\n",
      "only showing top 20 rows\n",
      "\n"
     ]
    }
   ],
   "source": [
    "mean_scores.show()"
   ]
  },
  {
   "cell_type": "code",
   "execution_count": null,
   "metadata": {},
   "outputs": [],
   "source": [
    "dfr.join(mean_scores, (f.col('Age') == f.col('MaxAge')) & (f.col('Pclass') == f.col('Pclass_')), 'inner')\\\n",
    "    .drop('Pclass_')"
   ]
  },
  {
   "cell_type": "code",
   "execution_count": null,
   "metadata": {},
   "outputs": [],
   "source": []
  },
  {
   "cell_type": "markdown",
   "metadata": {},
   "source": [
    "A simple way to assess how positive each word is:\n",
    "- for every review: tokenize sentence\n",
    "- create a bag of words --> a document-term matrix\n",
    "- create a dictionary, containing every word from the reviews and create an aggregated score on each word. The aggreated word review could be as simple as:\n",
    "    - adding all the average reviews and dividing with the total number of reviews it has been a part of (to account for non-frequent words) \n",
    "    - creating a much simpler score, where bad reviews= -1, middle= 0, high= 1. These simple metrics can then be added up and normalised again. "
   ]
  },
  {
   "cell_type": "code",
   "execution_count": 13,
   "metadata": {},
   "outputs": [
    {
     "name": "stdout",
     "output_type": "stream",
     "text": [
      "== Physical Plan ==\n",
      "*(2) HashAggregate(keys=[country#48], functions=[sum(cast(review_scores_rating#87 as double))])\n",
      "+- Exchange hashpartitioning(country#48, 200)\n",
      "   +- *(1) HashAggregate(keys=[country#48], functions=[partial_sum(cast(review_scores_rating#87 as double))])\n",
      "      +- *(1) Project [country#48, review_scores_rating#87]\n",
      "         +- *(1) Filter (isnotnull(country#48) && (country#48 = Sweden))\n",
      "            +- *(1) FileScan csv [country#48,review_scores_rating#87] Batched: false, Format: CSV, Location: InMemoryFileIndex[file:/home/jovyan/work/Project3/Computational_Tools/listings_sub_10000.csv], PartitionFilters: [], PushedFilters: [IsNotNull(country), EqualTo(country,Sweden)], ReadSchema: struct<country:string,review_scores_rating:string>\n"
     ]
    }
   ],
   "source": [
    "dfl.groupBy('country').agg(f.sum('review_scores_rating')).filter(f.col('country') == 'Sweden').explain()"
   ]
  },
  {
   "cell_type": "code",
   "execution_count": 14,
   "metadata": {
    "scrolled": true
   },
   "outputs": [
    {
     "name": "stdout",
     "output_type": "stream",
     "text": [
      "== Physical Plan ==\n",
      "*(2) HashAggregate(keys=[country#48], functions=[sum(cast(review_scores_rating#87 as double))])\n",
      "+- Exchange hashpartitioning(country#48, 200)\n",
      "   +- *(1) HashAggregate(keys=[country#48], functions=[partial_sum(cast(review_scores_rating#87 as double))])\n",
      "      +- *(1) Project [country#48, review_scores_rating#87]\n",
      "         +- *(1) Filter (isnotnull(country#48) && (country#48 = Sweden))\n",
      "            +- *(1) FileScan csv [country#48,review_scores_rating#87] Batched: false, Format: CSV, Location: InMemoryFileIndex[file:/home/jovyan/work/Project3/Computational_Tools/listings_sub_10000.csv], PartitionFilters: [], PushedFilters: [IsNotNull(country), EqualTo(country,Sweden)], ReadSchema: struct<country:string,review_scores_rating:string>\n"
     ]
    }
   ],
   "source": [
    "dfl.filter(f.col('country') == 'Sweden').groupBy('country').agg(f.sum('review_scores_rating')).explain()"
   ]
  },
  {
   "cell_type": "code",
   "execution_count": null,
   "metadata": {},
   "outputs": [],
   "source": []
  }
 ],
 "metadata": {
  "kernelspec": {
   "display_name": "Python 3",
   "language": "python",
   "name": "python3"
  },
  "language_info": {
   "codemirror_mode": {
    "name": "ipython",
    "version": 3
   },
   "file_extension": ".py",
   "mimetype": "text/x-python",
   "name": "python",
   "nbconvert_exporter": "python",
   "pygments_lexer": "ipython3",
   "version": "3.7.3"
  }
 },
 "nbformat": 4,
 "nbformat_minor": 2
}
